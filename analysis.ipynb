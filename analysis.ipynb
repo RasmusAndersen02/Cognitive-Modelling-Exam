{
 "cells": [
  {
   "cell_type": "markdown",
   "id": "06f4e277",
   "metadata": {},
   "source": [
    "# MODEL IMPLEMENTATION"
   ]
  },
  {
   "cell_type": "code",
   "execution_count": 1,
   "id": "c30b7e84",
   "metadata": {
    "vscode": {
     "languageId": "r"
    }
   },
   "outputs": [],
   "source": [
    "rWald = function(n, B, v, A)\n",
    "  # random deviate function for single acumulator\n",
    "{\n",
    "  rwaldt = function(n, k, l, tiny = 1e-6) {\n",
    "    # random sample of n from a Wald (or Inverse Gaussian)\n",
    "    # k = criterion, l = rate, assumes sigma=1 Browninan motion\n",
    "    # about same speed as statmod rinvgauss\n",
    "    \n",
    "    rlevy = function(n = 1, m = 0, c = 1) {\n",
    "      if (any(c < 0))\n",
    "        stop(\"c must be positive\")\n",
    "      c / qnorm(1 - runif(n) / 2) ^ 2 + m\n",
    "    }\n",
    "    \n",
    "    flag     = l > tiny\n",
    "    x        = rep(NA, times = n)\n",
    "    x[!flag] = rlevy(sum(!flag), 0, k[!flag] ^ 2)\n",
    "    mu       = k / l\n",
    "    lambda   = k ^ 2\n",
    "    y        = rnorm(sum(flag)) ^ 2\n",
    "    mu.0     = mu[flag]\n",
    "    lambda.0 = lambda[flag]\n",
    "    x.0      = mu.0 + mu.0 ^ 2 * y / (2 * lambda.0) -\n",
    "      sqrt(4 * mu.0 * lambda.0 * y + mu.0 ^ 2 * y ^ 2) * mu.0 /\n",
    "      (2 * lambda.0)\n",
    "    \n",
    "    z             = runif(length(x.0))\n",
    "    test          = mu.0 / (mu.0 + x.0)\n",
    "    x.0[z > test] = mu.0[z > test] ^ 2 / x.0[z > test]\n",
    "    x[flag]       = x.0\n",
    "    x[x < 0]      = max(x)\n",
    "    x\n",
    "  }\n",
    "  \n",
    "  # Act as if negative v never terminates, cluge to do single accumulator\n",
    "  # case by passing negative v\n",
    "  if (length(v) != n)\n",
    "    v = rep(v, length.out = n)\n",
    "  if (length(B) != n)\n",
    "    B = rep(B, length.out = n)\n",
    "  if (length(A) != n)\n",
    "    A = rep(A, length.out = n)\n",
    "  \n",
    "  # Kluge to return -Inf for negative rates, so can implment one accumulator case\n",
    "  out      = numeric(n)\n",
    "  ok       = v > 0\n",
    "  nok      = sum(ok)\n",
    "  bs       = B[ok] + runif(nok, 0, A[ok])\n",
    "  out[ok]  = rwaldt(nok, k = bs, l = v[ok])\n",
    "  out[!ok] = Inf\n",
    "  out\n",
    "}"
   ]
  },
  {
   "cell_type": "code",
   "execution_count": 2,
   "id": "a821ab1a",
   "metadata": {
    "vscode": {
     "languageId": "r"
    }
   },
   "outputs": [],
   "source": [
    "dWald = function(t, v, B, A)\n",
    "{\n",
    "  digt = function(t, k = 1, l = 1, a = .1, tiny = 1e-10) {\n",
    "    # pdf of inverse gaussian at t with k +/- a/2 uniform variability\n",
    "    # returns digt.0 if a<1e-10\n",
    "    \n",
    "    digt.0 = function(t, k = 1, l = 1) {\n",
    "      # pdf of inverse gaussian at t with no k variability\n",
    "      # much faster than statmod's dinvgauss funciton\n",
    "      \n",
    "      lambda = k ^ 2\n",
    "      l0     = l == 0\n",
    "      e      = numeric(length(t))\n",
    "      if (any(!l0)) {\n",
    "        mu     = k[!l0] / l[!l0]\n",
    "        e[!l0] =\n",
    "          -(lambda[!l0] / (2 * t[!l0])) * (t[!l0] ^ 2 / mu ^ 2 - 2 * t[!l0] / mu  + 1)\n",
    "      }\n",
    "      if (any(l0))\n",
    "        e[l0]   = -.5 * lambda[l0] / t[l0]\n",
    "      x         = exp(e + .5 * log(lambda) - .5 * log(2 * t ^ 3 * pi))\n",
    "      x[t <= 0] = 0\n",
    "      x\n",
    "    }\n",
    "    \n",
    "    options(warn = -1)\n",
    "    if (length(k) != length(t))\n",
    "      k = rep(k, length.out = length(t))\n",
    "    if (length(l) != length(t))\n",
    "      l = rep(l, length.out = length(t))\n",
    "    if (length(a) != length(t))\n",
    "      a = rep(a, length.out = length(t))\n",
    "    \n",
    "    tpos = t <= 0\n",
    "    \n",
    "    atiny    = a <= tiny & !tpos\n",
    "    a[atiny] = 0\n",
    "    \n",
    "    ltiny        = (l <= tiny) & !atiny & !tpos\n",
    "    notltiny     = (l > tiny) & !atiny & !tpos\n",
    "    l[l <= tiny] = 0\n",
    "    x            = numeric(length(t))\n",
    "    \n",
    "    # No threshold variability\n",
    "    if (any(atiny))\n",
    "      x[atiny] = digt.0(t = t[atiny], k = k[atiny], l = l[atiny])\n",
    "    \n",
    "    # Threshold variability\n",
    "    if (any(!atiny)) {\n",
    "      if (any(notltiny)) {\n",
    "        # rate non-zero\n",
    "        \n",
    "        sqr.t   = sqrt(t[notltiny])\n",
    "        \n",
    "        term.1a =\n",
    "          -(a[notltiny] - k[notltiny] + t[notltiny] * l[notltiny]) ^ 2 / (2 * t[notltiny])\n",
    "        term.1b =\n",
    "          -(a[notltiny] + k[notltiny] - t[notltiny] * l[notltiny]) ^ 2 / (2 * t[notltiny])\n",
    "        term.1  =\n",
    "          (exp(term.1a) - exp(term.1b)) / sqrt(2 * pi * t[notltiny])\n",
    "        \n",
    "        term.2a = log(.5) + log(l[notltiny])\n",
    "        term.2b =\n",
    "          2 * pnorm((-k[notltiny] + a[notltiny]) / sqr.t + sqr.t * l[notltiny]) -\n",
    "          1\n",
    "        term.2c =\n",
    "          2 * pnorm((k[notltiny] + a[notltiny]) / sqr.t - sqr.t * l[notltiny]) -\n",
    "          1\n",
    "        term.2d = term.2b + term.2c\n",
    "        term.2  = exp(term.2a) * term.2d\n",
    "        \n",
    "        term.3  = term.1 + term.2\n",
    "        term.4  = log(term.3) - log(2) - log(a[notltiny])\n",
    "        x[notltiny] = exp(term.4)\n",
    "      }\n",
    "      \n",
    "      if (any(ltiny)) {\n",
    "        # rate zero\n",
    "        log.t    = log(t[ltiny])\n",
    "        term.1   = -.5 * (log(2) + log(pi) + log.t)\n",
    "        term.2   = (k[ltiny] - a[ltiny]) ^ 2 / (2 * t[ltiny])\n",
    "        term.3   = (k[ltiny] + a[ltiny]) ^ 2 / (2 * t[ltiny])\n",
    "        term.4   = (exp(-term.2) - exp(-term.3))\n",
    "        term.5   = term.1 + log(term.4) - log(2) - log(a[ltiny])\n",
    "        x[ltiny] = exp(term.5)\n",
    "      }\n",
    "      \n",
    "    }\n",
    "    \n",
    "    x[x < 0 | is.nan(x)] = 0\n",
    "    x\n",
    "  }\n",
    "  \n",
    "  out      = numeric(length(t))\n",
    "  ok       = v > 0\n",
    "  out[ok]  = digt(t[ok],\n",
    "                   k = B[ok] + A[ok] / 2,\n",
    "                   l = v[ok],\n",
    "                   a = A[ok] / 2)\n",
    "  out[!ok] = 0\n",
    "  out\n",
    "}"
   ]
  },
  {
   "cell_type": "code",
   "execution_count": 3,
   "id": "25d10e47",
   "metadata": {
    "vscode": {
     "languageId": "r"
    }
   },
   "outputs": [],
   "source": [
    "pWald = function(t, v, B, A)\n",
    "  # cumulative density for single accumulator\n",
    "{\n",
    "  pigt = function(t, k = 1, l = 1, a = .1, tiny = 1e-10) {\n",
    "    # cdf of inverse gaussian at t with k +/- a/2 uniform variability\n",
    "    # returns pigt.0 if a<=0\n",
    "    \n",
    "    pigt.0 = function(t, k = 1, l = 1) {\n",
    "      # cdf of inverse gaussian at t with no k variability\n",
    "      # much faster than statmod's pinvgauss funciton\n",
    "      \n",
    "      mu       = k / l\n",
    "      lambda   = k ^ 2\n",
    "      e        = exp(log(2 * lambda) - log(mu))\n",
    "      add      = sqrt(lambda / t) * (1 + t / mu)\n",
    "      sub      = sqrt(lambda / t) * (1 - t / mu)\n",
    "      p.1      = 1 - pnorm(add)\n",
    "      p.2      = 1 - pnorm(sub)\n",
    "      x        = exp(e + log(p.1)) + p.2\n",
    "      \n",
    "      x[t < 0] = 0\n",
    "      x\n",
    "    }\n",
    "    \n",
    "    options(warn = -1)\n",
    "    if (length(k) != length(t))\n",
    "      k  = rep(k, length.out = length(t))\n",
    "    if (length(l) != length(t))\n",
    "      l  = rep(l, length.out = length(t))\n",
    "    if (length(a) != length(t))\n",
    "      a  = rep(a, length.out = length(t))\n",
    "    \n",
    "    tpos = t <= 0\n",
    "    \n",
    "    atiny    = a <= tiny & !tpos\n",
    "    a[atiny] = 0\n",
    "    \n",
    "    ltiny        = (l <= tiny) & !atiny & !tpos\n",
    "    notltiny     = (l > tiny) & !atiny & !tpos\n",
    "    l[l <= tiny] = 0\n",
    "    \n",
    "    x = numeric(length(t))\n",
    "    \n",
    "    # No threshold variability\n",
    "    if (any(atiny))\n",
    "      x[atiny] = pigt.0(t[atiny], k[atiny], l[atiny])\n",
    "    \n",
    "    # Threshold variability\n",
    "    if (any(!atiny)) {\n",
    "      if (any(notltiny)) {\n",
    "        # rate non-zero\n",
    "        \n",
    "        log.t   = log(t[notltiny])\n",
    "        sqr.t   = sqrt(t[notltiny])\n",
    "        \n",
    "        term.1a = .5 * log.t - .5 * log(2 * pi)\n",
    "        term.1b =\n",
    "          exp(-((k[notltiny] - a[notltiny] - t[notltiny] * l[notltiny]) ^ 2 / t[notltiny]) /\n",
    "                2)\n",
    "        term.1c =\n",
    "          exp(-((k[notltiny] + a[notltiny] - t[notltiny] * l[notltiny]) ^ 2 / t[notltiny]) /\n",
    "                2)\n",
    "        term.1  = exp(term.1a) * (term.1b - term.1c)\n",
    "        \n",
    "        term.2a = exp(2 * l[notltiny] * (k[notltiny] - a[notltiny]) +\n",
    "                         log(pnorm(-(\n",
    "                           k[notltiny] - a[notltiny] + t[notltiny] * l[notltiny]\n",
    "                         ) / sqr.t)))\n",
    "        term.2b = exp(2 * l[notltiny] * (k[notltiny] + a[notltiny]) +\n",
    "                         log(pnorm(-(\n",
    "                           k[notltiny] + a[notltiny] + t[notltiny] * l[notltiny]\n",
    "                         ) / sqr.t)))\n",
    "        term.2  = a[notltiny] + (term.2b - term.2a) / (2 * l[notltiny])\n",
    "        \n",
    "        term.4a =\n",
    "          2 * pnorm((k[notltiny] + a[notltiny]) / sqr.t - sqr.t * l[notltiny]) -\n",
    "          1\n",
    "        term.4b =\n",
    "          2 * pnorm((k[notltiny] - a[notltiny]) / sqr.t - sqr.t * l[notltiny]) -\n",
    "          1\n",
    "        term.4c =\n",
    "          .5 * (t[notltiny] * l[notltiny] - a[notltiny] - k[notltiny] + .5 / l[notltiny])\n",
    "        term.4d =\n",
    "          .5 * (k[notltiny] - a[notltiny] - t[notltiny] * l[notltiny] - .5 / l[notltiny])\n",
    "        term.4  = term.4c * term.4a + term.4d * term.4b\n",
    "        \n",
    "        x[notltiny] = (term.4 + term.2 + term.1) / (2 * a[notltiny])\n",
    "      }\n",
    "      \n",
    "      if (any(ltiny)) {\n",
    "        # rate zero\n",
    "        sqr.t   = sqrt(t[ltiny])\n",
    "        log.t   = log(t[ltiny])\n",
    "        term.5a = 2 * pnorm((k[ltiny] + a[ltiny]) / sqr.t) - 1\n",
    "        term.5b = 2 * pnorm(-(k[ltiny] - a[ltiny]) / sqr.t) - 1\n",
    "        term.5  =\n",
    "          (-(k[ltiny] + a[ltiny]) * term.5a - (k[ltiny] - a[ltiny]) * term.5b) /\n",
    "          (2 * a[ltiny])\n",
    "        \n",
    "        term.6a =\n",
    "          -.5 * (k[ltiny] + a[ltiny]) ^ 2 / t[ltiny] - .5 * log(2) - .5 * log(pi) + .5 *\n",
    "          log.t - log(a[ltiny])\n",
    "        term.6b =\n",
    "          -.5 * (k[ltiny] - a[ltiny]) ^ 2 / t[ltiny] - .5 * log(2) - .5 * log(pi) + .5 *\n",
    "          log.t - log(a[ltiny])\n",
    "        term.6 = 1 + exp(term.6b) - exp(term.6a)\n",
    "        \n",
    "        x[ltiny] = term.5 + term.6\n",
    "      }\n",
    "      \n",
    "    }\n",
    "    \n",
    "    x[x < 0 | is.nan(x)] = 0\n",
    "    x\n",
    "  }\n",
    "  \n",
    "  out = numeric(length(t))\n",
    "  ok = v > 0\n",
    "  out[ok] = pigt(t[ok],\n",
    "                  k = B[ok] + A[ok] / 2,\n",
    "                  l = v[ok],\n",
    "                  a = A[ok] / 2)\n",
    "  out[!ok] = 0\n",
    "  out\n",
    "  \n",
    "}"
   ]
  },
  {
   "cell_type": "code",
   "execution_count": 4,
   "id": "cf7238e5",
   "metadata": {
    "vscode": {
     "languageId": "r"
    }
   },
   "outputs": [],
   "source": [
    "rWaldRace = function(n, v, B, A, t0, gf = 0, return.ttf = FALSE)\n",
    "  # random function for Wald race.\n",
    "{\n",
    "  B[B < 0] = 0 # Protection for negatives\n",
    "  A[A < 0] = 0\n",
    "  n_v      = ifelse(is.null(dim(v)), length(v), dim(v)[1])\n",
    "  ttf      = matrix(t0 + rWald(n * n_v, B = B, v = v, A = A), nrow = n_v)\n",
    "  if (return.ttf)\n",
    "    return(ttf)\n",
    "  resp = apply(ttf, 2, which.min)\n",
    "  out  = data.frame(RT = ttf[cbind(resp, 1:n)], R = resp)\n",
    "  \n",
    "  for (i in 1:n_v) {\n",
    "    out[[paste0(\"RT_acc\", i)]] = ttf[i, ]\n",
    "  }\n",
    "  \n",
    "  # Handle go failures\n",
    "  if (gf[1] > 0) {\n",
    "    is.gf = as.logical(rbinom(n, 1, gf))\n",
    "    out$RT_winner[is.gf] = NA\n",
    "    out$Winner[is.gf] = 1\n",
    "    for (i in 1:n_v) {\n",
    "      out[[paste0(\"RT_racer\", i)]][is.gf] = NA\n",
    "    }\n",
    "  }\n",
    "  \n",
    "  out\n",
    "}"
   ]
  },
  {
   "cell_type": "code",
   "execution_count": 5,
   "id": "f1398d22",
   "metadata": {
    "vscode": {
     "languageId": "r"
    }
   },
   "outputs": [],
   "source": [
    "n1Wald = function(dt, v, B, A, t0, gf = 0)\n",
    "  # Generates defective PDF for responses on node=1, dt (decison time) is a vector of times\n",
    "{\n",
    "  B[B < 0] = 0 # Protection for negatives\n",
    "  A[A < 0] = 0\n",
    "  n_acc = ifelse(is.null(dim(v)), length(v), dim(v)[1])\n",
    "  if (is.null(dim(dt)))\n",
    "    dt = matrix(rep(dt, each = n_acc), nrow = n_acc)\n",
    "  dt = dt - t0\n",
    "  \n",
    "  is.go = !is.na(dt[1, ])\n",
    "  n.go = sum(is.go)\n",
    "  \n",
    "  if (!is.matrix(v))\n",
    "    v = matrix(rep(v, n.go), nrow = n_acc)\n",
    "  if (!is.matrix(B))\n",
    "    B = matrix(rep(B, n.go), nrow = n_acc)\n",
    "  if (!is.matrix(A))\n",
    "    A = matrix(rep(A, n.go), nrow = n_acc)\n",
    "  \n",
    "  # Winner\n",
    "  dt[1, is.go] =\n",
    "    (1 - gf[1]) * dWald(dt[1, is.go], A = A[1, ], v = v[1, ], B = B[1, ])\n",
    "  if (n_acc > 1)\n",
    "    for (i in 2:n_acc)\n",
    "      dt[1, is.go] =\n",
    "    dt[1, is.go] * (1 - pWald(dt[i, is.go], A = A[i, ], v = v[i, ], B = B[i, ]))\n",
    "  \n",
    "  dt[1, !is.go] = gf[1]\n",
    "  \n",
    "  dt[1, ]\n",
    "}"
   ]
  },
  {
   "cell_type": "code",
   "execution_count": 6,
   "id": "65f2ecb9",
   "metadata": {
    "vscode": {
     "languageId": "r"
    }
   },
   "outputs": [
    {
     "name": "stderr",
     "output_type": "stream",
     "text": [
      "── \u001b[1mAttaching core tidyverse packages\u001b[22m ──────────────────────── tidyverse 2.0.0 ──\n",
      "\u001b[32m✔\u001b[39m \u001b[34mdplyr    \u001b[39m 1.1.4     \u001b[32m✔\u001b[39m \u001b[34mreadr    \u001b[39m 2.1.5\n",
      "\u001b[32m✔\u001b[39m \u001b[34mforcats  \u001b[39m 1.0.0     \u001b[32m✔\u001b[39m \u001b[34mstringr  \u001b[39m 1.5.1\n",
      "\u001b[32m✔\u001b[39m \u001b[34mggplot2  \u001b[39m 3.5.2     \u001b[32m✔\u001b[39m \u001b[34mtibble   \u001b[39m 3.2.1\n",
      "\u001b[32m✔\u001b[39m \u001b[34mlubridate\u001b[39m 1.9.4     \u001b[32m✔\u001b[39m \u001b[34mtidyr    \u001b[39m 1.3.1\n",
      "\u001b[32m✔\u001b[39m \u001b[34mpurrr    \u001b[39m 1.0.4     \n",
      "── \u001b[1mConflicts\u001b[22m ────────────────────────────────────────── tidyverse_conflicts() ──\n",
      "\u001b[31m✖\u001b[39m \u001b[34mdplyr\u001b[39m::\u001b[32mfilter()\u001b[39m masks \u001b[34mstats\u001b[39m::filter()\n",
      "\u001b[31m✖\u001b[39m \u001b[34mdplyr\u001b[39m::\u001b[32mlag()\u001b[39m    masks \u001b[34mstats\u001b[39m::lag()\n",
      "\u001b[36mℹ\u001b[39m Use the conflicted package (\u001b[3m\u001b[34m<http://conflicted.r-lib.org/>\u001b[39m\u001b[23m) to force all conflicts to become errors\n"
     ]
    }
   ],
   "source": [
    "library(tidyverse)\n",
    "library(dplyr)\n",
    "library(ggplot2)\n",
    "options(repr.plot.width = 12, repr.plot.height = 5)  # For RStudio/Jupyter\n",
    "dev.new(width = 12, height = 5)  # For base R graphics\n"
   ]
  },
  {
   "cell_type": "code",
   "execution_count": 200,
   "id": "c6efa64f",
   "metadata": {
    "vscode": {
     "languageId": "r"
    }
   },
   "outputs": [],
   "source": [
    "x = c(seq(0, 5, 0.01))\n",
    "y_dist = c(dWald(x, 4, 2, 0))\n",
    "\n",
    "y_samps = rWaldRace(n = 10000, v=c(4), B=2, A=0, t0=0)\n",
    "y_binned = cut(y_samps$RT, breaks = x, include.lowest = TRUE, right = FALSE)\n",
    "bin_counts = table(y_binned)\n",
    "bin_density = as.numeric(bin_counts) / (sum(bin_counts) * 0.01)\n",
    "x_mid = head(x, -1) + 0.01 / 2\n",
    "\n",
    "df_plot = data.frame(\n",
    "  x = x,\n",
    "  y_dist = y_dist\n",
    ")\n",
    "\n",
    "df_hist = data.frame(\n",
    "  x = x_mid,\n",
    "  y_dist = bin_density\n",
    ")\n",
    "df_plot$source <- \"Theoretical\"\n",
    "df_hist$source <- \"Samples\"\n",
    "df_combined <- bind_rows(df_plot, df_hist)\n",
    "\n",
    "sample_pdf_comp = ggplot(df_combined, aes(x = x, y = y_dist, color = source)) +\n",
    "  geom_line(size = 1) +\n",
    "  labs(\n",
    "    title = \"Normalized Density - Theoretical PDF vs. Samples\",\n",
    "    x = \"RT\", y = \"Density\", color = \"Source\"\n",
    "  ) +\n",
    "  theme_minimal() +\n",
    "  xlim(0, 1.5) +\n",
    "  scale_color_brewer(palette = \"YlGnBu\", labels = c(\"wald-PDF\", \"wald-Samples\"))\n",
    "\n",
    "ggsave('sample_pdf_comp.jpg', plot = sample_pdf_comp, width = 10, height = 5)"
   ]
  },
  {
   "cell_type": "code",
   "execution_count": 211,
   "id": "dca5b941",
   "metadata": {
    "vscode": {
     "languageId": "r"
    }
   },
   "outputs": [],
   "source": [
    "# Plot distribution of \n",
    "y_v = rWaldRace(n = 10000, v=c(4,2,1), B=2, A=0, t0=0)\n",
    "y_A = rWaldRace(n = 10000, v=c(4,4,4), B=2, A=c(0,1,2), t0=0)\n",
    "y_B = rWaldRace(n = 10000, v=c(4,4,4), B=c(1,1.5,2), A=0, t0=0)\n",
    "\n",
    "y_v_long_rt = y_v %>% \n",
    "    select(starts_with('RT_acc')) %>% \n",
    "        pivot_longer(cols = everything(), names_to = 'Accumulator', values_to = 'RT' )\n",
    "y_B_long_rt = y_B %>% \n",
    "    select(starts_with('RT_acc')) %>% \n",
    "        pivot_longer(cols = everything(), names_to = 'Accumulator', values_to = 'RT' )\n",
    "y_A_long_rt = y_A %>% \n",
    "    select(starts_with('RT_acc')) %>% \n",
    "        pivot_longer(cols = everything(), names_to = 'Accumulator', values_to = 'RT' )\n"
   ]
  },
  {
   "cell_type": "code",
   "execution_count": 212,
   "id": "570ecd2c",
   "metadata": {
    "vscode": {
     "languageId": "r"
    }
   },
   "outputs": [],
   "source": [
    "y_v_rt_plot = ggplot(data = y_v_long_rt, aes(x=RT, color=Accumulator))+\n",
    "    geom_density(size=1) +\n",
    "    theme_minimal() +\n",
    "    theme(aspect.ratio = .3)+\n",
    "    xlim(0, 5) +\n",
    "    scale_color_brewer(palette = \"YlGnBu\", labels = c('v=4', 'v=2', 'v=1'))  +\n",
    "    labs(title= 'RT distribution - Driftrate (v)',\n",
    "        x='Response Time (s)', y= 'Density')\n",
    "\n",
    "y_B_rt_plot = ggplot(data = y_B_long_rt, aes(x=RT, color=Accumulator))+\n",
    "    geom_density(size=1) +\n",
    "    theme_minimal() +\n",
    "    theme(aspect.ratio = .3)+\n",
    "    xlim(0, 2) +\n",
    "    scale_color_brewer(palette = \"YlGnBu\", labels = c('B=1', 'B=1.5', 'B=2')) +\n",
    "    labs(title= 'RT distribution - Response Threshold (B)',\n",
    "        x='Response Time (s)', y= 'Density')\n",
    "\n",
    "y_A_rt_plot = ggplot(data = y_A_long_rt, aes(x=RT, color=Accumulator))+\n",
    "    geom_density(size=1) +\n",
    "    theme_minimal() +\n",
    "    theme(aspect.ratio = .3) +\n",
    "    xlim(0, 1.5) +\n",
    "    scale_color_brewer(palette = \"YlGnBu\", labels = c('A=0', 'A=1', 'A=2')) +\n",
    "    labs(title= 'RT distribution - Starting Point (A)',\n",
    "        x='Response Time (s)', y= 'Density')"
   ]
  },
  {
   "cell_type": "code",
   "execution_count": 213,
   "id": "c254100c",
   "metadata": {
    "vscode": {
     "languageId": "r"
    }
   },
   "outputs": [
    {
     "data": {
      "text/html": [
       "<table class=\"dataframe\">\n",
       "<caption>A data.frame: 9 × 3</caption>\n",
       "<thead>\n",
       "\t<tr><th scope=col>parameter</th><th scope=col>R</th><th scope=col>n</th></tr>\n",
       "\t<tr><th scope=col>&lt;chr&gt;</th><th scope=col>&lt;chr&gt;</th><th scope=col>&lt;int&gt;</th></tr>\n",
       "</thead>\n",
       "<tbody>\n",
       "\t<tr><td>Drift Rate        </td><td>v=4  </td><td>8377</td></tr>\n",
       "\t<tr><td>Drift Rate        </td><td>v=2  </td><td>1297</td></tr>\n",
       "\t<tr><td>Drift Rate        </td><td>v=1  </td><td> 326</td></tr>\n",
       "\t<tr><td>Starting Point    </td><td>A=0  </td><td>5920</td></tr>\n",
       "\t<tr><td>Starting Point    </td><td>A=1  </td><td>2689</td></tr>\n",
       "\t<tr><td>Starting Point    </td><td>A=2  </td><td>1391</td></tr>\n",
       "\t<tr><td>Response Threshold</td><td>B=1  </td><td>7346</td></tr>\n",
       "\t<tr><td>Response Threshold</td><td>B=1.5</td><td>2112</td></tr>\n",
       "\t<tr><td>Response Threshold</td><td>B=2  </td><td> 542</td></tr>\n",
       "</tbody>\n",
       "</table>\n"
      ],
      "text/latex": [
       "A data.frame: 9 × 3\n",
       "\\begin{tabular}{lll}\n",
       " parameter & R & n\\\\\n",
       " <chr> & <chr> & <int>\\\\\n",
       "\\hline\n",
       "\t Drift Rate         & v=4   & 8377\\\\\n",
       "\t Drift Rate         & v=2   & 1297\\\\\n",
       "\t Drift Rate         & v=1   &  326\\\\\n",
       "\t Starting Point     & A=0   & 5920\\\\\n",
       "\t Starting Point     & A=1   & 2689\\\\\n",
       "\t Starting Point     & A=2   & 1391\\\\\n",
       "\t Response Threshold & B=1   & 7346\\\\\n",
       "\t Response Threshold & B=1.5 & 2112\\\\\n",
       "\t Response Threshold & B=2   &  542\\\\\n",
       "\\end{tabular}\n"
      ],
      "text/markdown": [
       "\n",
       "A data.frame: 9 × 3\n",
       "\n",
       "| parameter &lt;chr&gt; | R &lt;chr&gt; | n &lt;int&gt; |\n",
       "|---|---|---|\n",
       "| Drift Rate         | v=4   | 8377 |\n",
       "| Drift Rate         | v=2   | 1297 |\n",
       "| Drift Rate         | v=1   |  326 |\n",
       "| Starting Point     | A=0   | 5920 |\n",
       "| Starting Point     | A=1   | 2689 |\n",
       "| Starting Point     | A=2   | 1391 |\n",
       "| Response Threshold | B=1   | 7346 |\n",
       "| Response Threshold | B=1.5 | 2112 |\n",
       "| Response Threshold | B=2   |  542 |\n",
       "\n"
      ],
      "text/plain": [
       "  parameter          R     n   \n",
       "1 Drift Rate         v=4   8377\n",
       "2 Drift Rate         v=2   1297\n",
       "3 Drift Rate         v=1    326\n",
       "4 Starting Point     A=0   5920\n",
       "5 Starting Point     A=1   2689\n",
       "6 Starting Point     A=2   1391\n",
       "7 Response Threshold B=1   7346\n",
       "8 Response Threshold B=1.5 2112\n",
       "9 Response Threshold B=2    542"
      ]
     },
     "metadata": {},
     "output_type": "display_data"
    }
   ],
   "source": [
    "y_v_long_resp = y_v %>%\n",
    "    group_by(R) %>%\n",
    "        count(R) %>%\n",
    "            mutate(R = recode(R, '1' = \"v=4\", '2' = \"v=2\", '3' = \"v=1\"))\n",
    "y_A_long_resp = y_A %>%\n",
    "    group_by(R) %>%\n",
    "        count(R) %>%\n",
    "            mutate(R = recode(R, '1' = \"A=0\", '2' = \"A=1\", '3' = \"A=2\"))\n",
    "y_B_long_resp = y_B %>%\n",
    "    group_by(R) %>%\n",
    "        count(R) %>%\n",
    "            mutate(R = recode(R, '1' = \"B=1\", '2' = \"B=1.5\", '3' = \"B=2\"))\n",
    "parameter = rep(c('Drift Rate','Starting Point','Response Threshold'), each=3)\n",
    "\n",
    "y_long_resp = as.data.frame(rbind(y_v_long_resp, y_A_long_resp, y_B_long_resp))\n",
    "y_long_resp = cbind(parameter, y_long_resp)\n",
    "y_long_resp"
   ]
  },
  {
   "cell_type": "code",
   "execution_count": 214,
   "id": "4462e3b2",
   "metadata": {
    "vscode": {
     "languageId": "r"
    }
   },
   "outputs": [
    {
     "data": {
      "image/png": "[encoded data removed]",
      "text/plain": [
       "plot without title"
      ]
     },
     "metadata": {
      "image/png": {
       "height": 300,
       "width": 720
      }
     },
     "output_type": "display_data"
    }
   ],
   "source": [
    "y_resp_plot = ggplot(y_long_resp, aes(x = factor(R), y = n, fill=parameter)) +\n",
    "  geom_col() +\n",
    "  labs(x = \"Winning Accumulator\", y = \"Count\", title = \"Accumulator Winners - Parameter Change\") +\n",
    "  theme_minimal()+\n",
    "  scale_fill_brewer(palette=\"YlGnBu\") \n",
    "y_resp_plot"
   ]
  },
  {
   "cell_type": "code",
   "execution_count": 215,
   "id": "ade8e65c",
   "metadata": {
    "vscode": {
     "languageId": "r"
    }
   },
   "outputs": [],
   "source": [
    "ggsave('y_v_rt_plot.jpg', plot = y_v_rt_plot, width = 10, height = 5)\n",
    "ggsave('y_B_rt_plot.jpg', plot = y_B_rt_plot, width = 10, height = 5)\n",
    "ggsave('y_A_rt_plot.jpg', plot = y_A_rt_plot, width = 10, height = 5)\n",
    "ggsave('y_resp_plot.jpg', plot = y_resp_plot, width = 10, height = 5)"
   ]
  },
  {
   "cell_type": "markdown",
   "id": "cb718b99",
   "metadata": {},
   "source": [
    "# MODEL FITTING\n"
   ]
  },
  {
   "cell_type": "code",
   "execution_count": 13,
   "id": "3f2a727e",
   "metadata": {
    "vscode": {
     "languageId": "r"
    }
   },
   "outputs": [],
   "source": [
    "library(rtdists)\n",
    "data(speed_acc)\n"
   ]
  },
  {
   "cell_type": "code",
   "execution_count": 14,
   "id": "87bca4dc",
   "metadata": {
    "vscode": {
     "languageId": "r"
    }
   },
   "outputs": [],
   "source": [
    "wagenmaker_df = speed_acc %>% \n",
    "    filter(censor == FALSE) %>%\n",
    "        mutate(frequency = recode(frequency, 'nw_low' = 'low', 'nw_very_low' = 'very_low', 'nw_high' = 'high')) %>%\n",
    "        na.omit()\n"
   ]
  },
  {
   "cell_type": "markdown",
   "id": "e08f6a97",
   "metadata": {},
   "source": [
    "## OBJECTIVE FUNCTION"
   ]
  },
  {
   "cell_type": "code",
   "execution_count": 15,
   "id": "2fbe99d4",
   "metadata": {
    "vscode": {
     "languageId": "r"
    }
   },
   "outputs": [],
   "source": [
    "logger_mogger <- function(params, data) {\n",
    "  # Extract parameters\n",
    "  v_word <- c(high = params[\"v_word_high\"], low = params[\"v_word_low\"], very_low = params[\"v_word_very_low\"])\n",
    "  v_nonword <- c(high = params[\"v_nonword_high\"],low = params[\"v_nonword_low\"], very_low = params[\"v_nonword_very_low\"])\n",
    "  v_incorrect = params['v_incorrect']\n",
    "\n",
    "  Bs <- params[\"Bs\"]\n",
    "  Ba <- params[\"Ba\"]\n",
    "  A <- params[\"A\"]\n",
    "  t0 <- params[\"t0\"]\n",
    "\n",
    "  ll <- 0\n",
    "  \n",
    "  for (i in 1:nrow(data)) {\n",
    "    rt <- data$rt[i]\n",
    "    if(rt <= t0){\n",
    "      ll = ll + log(1e-3)\n",
    "      next\n",
    "    }\n",
    "    stim_cat <- data$stim_cat[i]\n",
    "    freq <- data$frequency[i]\n",
    "    cond <- data$condition[i]\n",
    "    resp_cat <- data$response[i]\n",
    "    if(stim_cat == resp_cat){\n",
    "      v = ifelse(stim_cat == \"word\", v_word[freq], v_nonword[freq])\n",
    "    } else {\n",
    "      v = v_incorrect\n",
    "    }\n",
    "\n",
    "    B = ifelse(cond == \"speed\", Bs, Ba) \n",
    "    t <- rt - t0\n",
    "\n",
    "    dens <- dWald(t = t, v = v, B = B, A = A)\n",
    "\n",
    "    if (is.na(dens) || dens <= 0 || is.nan(dens) || is.infinite(dens)) {\n",
    "      ll <- ll + log(1e-3)  # Penalty\n",
    "    } else {\n",
    "      ll <- ll + log(dens)\n",
    "    }\n",
    "     \n",
    "  }\n",
    "  return(-ll)\n",
    "}"
   ]
  },
  {
   "cell_type": "markdown",
   "id": "90b77389",
   "metadata": {},
   "source": [
    "## Simulated Data Validation"
   ]
  },
  {
   "cell_type": "code",
   "execution_count": 16,
   "id": "b457909a",
   "metadata": {
    "vscode": {
     "languageId": "r"
    }
   },
   "outputs": [],
   "source": [
    "condition = rep('speed', times = 1000)\n",
    "\n",
    "speed_cond = rWaldRace(n = 1000, v=c(4,2,1,3,1.5,0.75), B=1, A=0.5, t0=0.18) \n",
    "speed_cond = cbind(condition,speed_cond)  %>%\n",
    "    rename(\n",
    "        w_high = 'RT_acc1',\n",
    "        w_low = 'RT_acc2',\n",
    "        w_very_low = 'RT_acc3',\n",
    "        nw_high = 'RT_acc4',\n",
    "        nw_low = 'RT_acc5',\n",
    "        nw_very_low = 'RT_acc6',\n",
    "    )\n",
    "\n",
    "condition = rep('acc', times = 1000)\n",
    "\n",
    "acc_cond = rWaldRace(n = 1000, v=c(4,2,1,3,1.5,0.75), B=2, A=0.5, t0=0.18) \n",
    "acc_cond = cbind(condition,acc_cond)  %>%\n",
    "    rename(\n",
    "        w_high = 'RT_acc1',\n",
    "        w_low = 'RT_acc2',\n",
    "        w_very_low = 'RT_acc3',\n",
    "        nw_high = 'RT_acc4',\n",
    "        nw_low = 'RT_acc5',\n",
    "        nw_very_low = 'RT_acc6',\n",
    "    )\n",
    "\n",
    "sim_4_recov_df = rbind(speed_cond, acc_cond)\n",
    "\n",
    "sim_4_recov_df_long = sim_4_recov_df %>%\n",
    "  pivot_longer(\n",
    "    cols = starts_with(\"w_\") | starts_with(\"nw_\"),  # select only the relevant columns\n",
    "    names_to = \"stim_type_freq\",\n",
    "    values_to = \"rt\"\n",
    "  ) %>%\n",
    "  # Step 2: Separate the name into stim_cat and frequency\n",
    "  mutate(\n",
    "    stim_cat = if_else(str_starts(stim_type_freq, \"w_\"), \"word\", \"nonword\"),\n",
    "    frequency = str_remove(stim_type_freq, \"^(w_|nw_)\"),\n",
    "    response = stim_cat  # assuming response is the same as stim_cat\n",
    "  ) %>%\n",
    "  # Step 3: Select desired columns\n",
    "  select(condition, stim_cat, frequency, rt, response) %>% \n",
    "    mutate (condition = factor(condition), stim_cat = factor(stim_cat), frequency = factor(frequency), response = factor(response))"
   ]
  },
  {
   "cell_type": "code",
   "execution_count": 17,
   "id": "ad371fd1",
   "metadata": {
    "vscode": {
     "languageId": "r"
    }
   },
   "outputs": [],
   "source": [
    "test_params = c(\n",
    "  v_word_high = 3.0,\n",
    "  v_word_low = 1.5,\n",
    "  v_word_very_low = 0.75, \n",
    "  v_nonword_high = 4,\n",
    "  v_nonword_low = 2,\n",
    "  v_nonword_very_low = 1,\n",
    "  v_incorrect = 1.0,\n",
    "  Bs = 1.0,\n",
    "  Ba = 2.0,\n",
    "  A = 0.5,\n",
    "  t0 = 0.18\n",
    ")\n",
    "\n",
    "# sims_sanity_fit <- optim(\n",
    "#   par = test_params,\n",
    "#   fn = logger_mogger,\n",
    "#   data = sim_4_recov_df_long, \n",
    "#   method = \"L-BFGS-B\",\n",
    "#   lower = param_jail,\n",
    "#   control = list(maxit = 10)\n",
    "# )\n"
   ]
  },
  {
   "cell_type": "code",
   "execution_count": 18,
   "id": "5704cc92",
   "metadata": {
    "vscode": {
     "languageId": "r"
    }
   },
   "outputs": [],
   "source": [
    "# saveRDS(object = sims_sanity_fit, file = 'sims_sanity_fit.rds')\n",
    "sims_sanity_fit = readRDS(file = 'sims_sanity_fit.rds')"
   ]
  },
  {
   "cell_type": "code",
   "execution_count": 217,
   "id": "a185f3c0",
   "metadata": {
    "vscode": {
     "languageId": "r"
    }
   },
   "outputs": [
    {
     "data": {
      "text/html": [
       "<style>\n",
       ".dl-inline {width: auto; margin:0; padding: 0}\n",
       ".dl-inline>dt, .dl-inline>dd {float: none; width: auto; display: inline-block}\n",
       ".dl-inline>dt::after {content: \":\\0020\"; padding-right: .5ex}\n",
       ".dl-inline>dt:not(:first-of-type) {padding-left: .5ex}\n",
       "</style><dl class=dl-inline><dt>v_word_high</dt><dd>4.07495503894624</dd><dt>v_word_low</dt><dd>2.27909069624792</dd><dt>v_word_very_low</dt><dd>1.00816604223978</dd><dt>v_nonword_high</dt><dd>3.29509494280012</dd><dt>v_nonword_low</dt><dd>1.47428964958861</dd><dt>v_nonword_very_low</dt><dd>0.743027279060765</dd><dt>v_incorrect</dt><dd>1</dd><dt>Bs</dt><dd>0.888530071471656</dd><dt>Ba</dt><dd>2.01294727627338</dd><dt>A</dt><dd>0.752299876980597</dd><dt>t0</dt><dd>0.185929257848171</dd></dl>\n"
      ],
      "text/latex": [
       "\\begin{description*}\n",
       "\\item[v\\textbackslash{}\\_word\\textbackslash{}\\_high] 4.07495503894624\n",
       "\\item[v\\textbackslash{}\\_word\\textbackslash{}\\_low] 2.27909069624792\n",
       "\\item[v\\textbackslash{}\\_word\\textbackslash{}\\_very\\textbackslash{}\\_low] 1.00816604223978\n",
       "\\item[v\\textbackslash{}\\_nonword\\textbackslash{}\\_high] 3.29509494280012\n",
       "\\item[v\\textbackslash{}\\_nonword\\textbackslash{}\\_low] 1.47428964958861\n",
       "\\item[v\\textbackslash{}\\_nonword\\textbackslash{}\\_very\\textbackslash{}\\_low] 0.743027279060765\n",
       "\\item[v\\textbackslash{}\\_incorrect] 1\n",
       "\\item[Bs] 0.888530071471656\n",
       "\\item[Ba] 2.01294727627338\n",
       "\\item[A] 0.752299876980597\n",
       "\\item[t0] 0.185929257848171\n",
       "\\end{description*}\n"
      ],
      "text/markdown": [
       "v_word_high\n",
       ":   4.07495503894624v_word_low\n",
       ":   2.27909069624792v_word_very_low\n",
       ":   1.00816604223978v_nonword_high\n",
       ":   3.29509494280012v_nonword_low\n",
       ":   1.47428964958861v_nonword_very_low\n",
       ":   0.743027279060765v_incorrect\n",
       ":   1Bs\n",
       ":   0.888530071471656Ba\n",
       ":   2.01294727627338A\n",
       ":   0.752299876980597t0\n",
       ":   0.185929257848171\n",
       "\n"
      ],
      "text/plain": [
       "       v_word_high         v_word_low    v_word_very_low     v_nonword_high \n",
       "         4.0749550          2.2790907          1.0081660          3.2950949 \n",
       "     v_nonword_low v_nonword_very_low        v_incorrect                 Bs \n",
       "         1.4742896          0.7430273          1.0000000          0.8885301 \n",
       "                Ba                  A                 t0 \n",
       "         2.0129473          0.7522999          0.1859293 "
      ]
     },
     "metadata": {},
     "output_type": "display_data"
    }
   ],
   "source": [
    "sims_sanity_fit$par"
   ]
  },
  {
   "cell_type": "markdown",
   "id": "1f0e4a1e",
   "metadata": {},
   "source": [
    "## REAL DATA FITTING\n"
   ]
  },
  {
   "cell_type": "code",
   "execution_count": 19,
   "id": "7db9c50b",
   "metadata": {
    "vscode": {
     "languageId": "r"
    }
   },
   "outputs": [],
   "source": [
    "init_params <- c(\n",
    "  v_word_high = 4.0,\n",
    "  v_word_low = 2.0,\n",
    "  v_word_very_low = 1.0, \n",
    "  v_nonword_high = 3.0,\n",
    "  v_nonword_low = 1.5,\n",
    "  v_nonword_very_low = 0.75,\n",
    "  v_incorrect = 1.0,\n",
    "  Bs = 1.0,\n",
    "  Ba = 2.0,\n",
    "  A = 0.5,\n",
    "  t0 = 0.18\n",
    ")\n",
    "param_jail = c(\n",
    "    v_word_high = 0, v_word_low = 0, v_word_very_low = 0,\n",
    "    v_nonword_high = 0, v_nonword_low = 0, v_nonword_very_low = 0,\n",
    "    v_incorrect = 0, \n",
    "    Bs = 0, Ba = 0, A = 0, t0 = 0.18\n",
    ")\n"
   ]
  },
  {
   "cell_type": "code",
   "execution_count": 20,
   "id": "3849aa67",
   "metadata": {
    "vscode": {
     "languageId": "r"
    }
   },
   "outputs": [],
   "source": [
    "# all_params <- list()\n",
    "# all_other = list()\n",
    "# # Loop through each participant\n",
    "# for (i in unique(wagenmaker_df$id)) {\n",
    "#   data = wagenmaker_df %>% filter(id == i)\n",
    "  \n",
    "#   fit <- optim(\n",
    "#   par = init_params,\n",
    "#   fn = logger_mogger,\n",
    "#   data = data,  # Your preprocessed data for one participant\n",
    "#   method = \"L-BFGS-B\",\n",
    "#   lower = param_jail,\n",
    "#   control = list(maxit = 10)\n",
    "#   )\n",
    "#   all_params[[i]] = c(fit$par)\n",
    "#   all_other[[i]] = c(fit$convergence, fit$value, fit$counts)\n",
    "# }\n"
   ]
  },
  {
   "cell_type": "code",
   "execution_count": 21,
   "id": "55077b11",
   "metadata": {
    "vscode": {
     "languageId": "r"
    }
   },
   "outputs": [],
   "source": [
    "# saveRDS(object = all_params, file = 'all_recovered_params.rds')\n",
    "# saveRDS(object = all_other, file = 'all_recovered_other.rds')"
   ]
  },
  {
   "cell_type": "code",
   "execution_count": 22,
   "id": "89afef88",
   "metadata": {
    "vscode": {
     "languageId": "r"
    }
   },
   "outputs": [],
   "source": [
    "all_params = readRDS(file = 'all_recovered_params.rds')"
   ]
  },
  {
   "cell_type": "code",
   "execution_count": 23,
   "id": "e3904b4c",
   "metadata": {
    "vscode": {
     "languageId": "r"
    }
   },
   "outputs": [],
   "source": [
    "\n",
    "# Combine into one data frame\n",
    "param_table <- do.call(rbind, all_params)\n",
    "\n",
    "# Reorder so participant_id is first column\n",
    "# param_table <- param_table[, c(ncol(param_table), 1:(ncol(param_table)-1))]"
   ]
  },
  {
   "cell_type": "code",
   "execution_count": 24,
   "id": "a05bee47",
   "metadata": {
    "vscode": {
     "languageId": "r"
    }
   },
   "outputs": [
    {
     "data": {
      "text/html": [
       "<table class=\"dataframe\">\n",
       "<caption>A matrix: 17 × 11 of type dbl</caption>\n",
       "<thead>\n",
       "\t<tr><th></th><th scope=col>v_word_high</th><th scope=col>v_word_low</th><th scope=col>v_word_very_low</th><th scope=col>v_nonword_high</th><th scope=col>v_nonword_low</th><th scope=col>v_nonword_very_low</th><th scope=col>v_incorrect</th><th scope=col>Bs</th><th scope=col>Ba</th><th scope=col>A</th><th scope=col>t0</th></tr>\n",
       "</thead>\n",
       "<tbody>\n",
       "\t<tr><th scope=row>1</th><td>5.202767</td><td>4.345004</td><td>3.668015</td><td>4.404602</td><td>4.402690</td><td>4.3928879</td><td>2.760401</td><td>1.3164006</td><td>1.378152</td><td>0.26753575</td><td>0.2276522</td></tr>\n",
       "\t<tr><th scope=row>2</th><td>4.080139</td><td>3.349044</td><td>2.907155</td><td>3.450565</td><td>3.416299</td><td>3.0926245</td><td>1.894111</td><td>0.9197738</td><td>1.478853</td><td>0.04515787</td><td>0.3295869</td></tr>\n",
       "\t<tr><th scope=row>3</th><td>4.214557</td><td>3.221414</td><td>2.721497</td><td>3.414412</td><td>2.992679</td><td>2.8409964</td><td>1.762753</td><td>1.0130077</td><td>1.357193</td><td>0.51351060</td><td>0.1800000</td></tr>\n",
       "\t<tr><th scope=row>4</th><td>5.371079</td><td>4.140032</td><td>3.447220</td><td>4.385876</td><td>3.882168</td><td>3.6627018</td><td>2.215791</td><td>0.9855729</td><td>1.182571</td><td>0.00000000</td><td>0.2632093</td></tr>\n",
       "\t<tr><th scope=row>5</th><td>5.429003</td><td>4.795274</td><td>4.497824</td><td>4.654043</td><td>4.680795</td><td>4.7993521</td><td>2.187695</td><td>1.0047619</td><td>1.671739</td><td>0.21066550</td><td>0.2747303</td></tr>\n",
       "\t<tr><th scope=row>6</th><td>5.207011</td><td>4.504030</td><td>3.931605</td><td>4.375656</td><td>4.356506</td><td>4.4212860</td><td>3.708271</td><td>1.0358760</td><td>1.704288</td><td>0.52866851</td><td>0.1800000</td></tr>\n",
       "\t<tr><th scope=row>7</th><td>4.904228</td><td>3.936941</td><td>3.384633</td><td>4.092953</td><td>3.979756</td><td>3.9017120</td><td>4.349046</td><td>0.9650857</td><td>1.533210</td><td>0.54393205</td><td>0.1800000</td></tr>\n",
       "\t<tr><th scope=row>8</th><td>3.999992</td><td>2.000019</td><td>1.000032</td><td>2.999991</td><td>1.500034</td><td>0.7500549</td><td>1.000063</td><td>0.9997203</td><td>1.999856</td><td>0.49987264</td><td>0.1911075</td></tr>\n",
       "\t<tr><th scope=row>9</th><td>4.242777</td><td>3.506629</td><td>3.030028</td><td>3.677878</td><td>3.288199</td><td>3.5296434</td><td>2.297520</td><td>1.0294819</td><td>1.631121</td><td>0.19201079</td><td>0.2542930</td></tr>\n",
       "\t<tr><th scope=row>10</th><td>5.296763</td><td>4.337067</td><td>3.913182</td><td>4.398814</td><td>4.220372</td><td>4.2940558</td><td>2.873926</td><td>0.9104033</td><td>1.437084</td><td>0.10273367</td><td>0.2480857</td></tr>\n",
       "\t<tr><th scope=row>11</th><td>5.694480</td><td>4.920511</td><td>4.503522</td><td>4.708943</td><td>5.131415</td><td>5.2869320</td><td>3.940679</td><td>1.2387508</td><td>1.698335</td><td>0.40022999</td><td>0.2333141</td></tr>\n",
       "\t<tr><th scope=row>12</th><td>4.534835</td><td>3.444250</td><td>2.915772</td><td>3.651066</td><td>3.436956</td><td>3.3574766</td><td>3.244819</td><td>1.0811280</td><td>1.542989</td><td>0.42248557</td><td>0.1800000</td></tr>\n",
       "\t<tr><th scope=row>13</th><td>3.918755</td><td>3.188935</td><td>2.688521</td><td>3.224375</td><td>2.963653</td><td>2.9038484</td><td>2.857345</td><td>0.9393480</td><td>1.387982</td><td>0.00000000</td><td>0.2886617</td></tr>\n",
       "\t<tr><th scope=row>14</th><td>4.357812</td><td>3.248772</td><td>2.810986</td><td>3.178929</td><td>2.683006</td><td>2.7188280</td><td>1.872641</td><td>1.0600968</td><td>1.721899</td><td>0.30846904</td><td>0.1852835</td></tr>\n",
       "\t<tr><th scope=row>15</th><td>4.012004</td><td>3.658428</td><td>3.341032</td><td>3.423611</td><td>3.568091</td><td>3.8774281</td><td>2.682323</td><td>0.8537632</td><td>1.879002</td><td>0.26202816</td><td>0.2798168</td></tr>\n",
       "\t<tr><th scope=row>16</th><td>4.089770</td><td>3.198250</td><td>2.916448</td><td>3.313088</td><td>3.097516</td><td>3.0944210</td><td>3.148409</td><td>0.9727121</td><td>1.725686</td><td>0.45857639</td><td>0.1843853</td></tr>\n",
       "\t<tr><th scope=row>17</th><td>4.206040</td><td>3.645797</td><td>3.356428</td><td>3.521840</td><td>3.483472</td><td>3.4374711</td><td>1.721787</td><td>1.0612078</td><td>1.719609</td><td>0.30216102</td><td>0.2382000</td></tr>\n",
       "</tbody>\n",
       "</table>\n"
      ],
      "text/latex": [
       "A matrix: 17 × 11 of type dbl\n",
       "\\begin{tabular}{r|lllllllllll}\n",
       "  & v\\_word\\_high & v\\_word\\_low & v\\_word\\_very\\_low & v\\_nonword\\_high & v\\_nonword\\_low & v\\_nonword\\_very\\_low & v\\_incorrect & Bs & Ba & A & t0\\\\\n",
       "\\hline\n",
       "\t1 & 5.202767 & 4.345004 & 3.668015 & 4.404602 & 4.402690 & 4.3928879 & 2.760401 & 1.3164006 & 1.378152 & 0.26753575 & 0.2276522\\\\\n",
       "\t2 & 4.080139 & 3.349044 & 2.907155 & 3.450565 & 3.416299 & 3.0926245 & 1.894111 & 0.9197738 & 1.478853 & 0.04515787 & 0.3295869\\\\\n",
       "\t3 & 4.214557 & 3.221414 & 2.721497 & 3.414412 & 2.992679 & 2.8409964 & 1.762753 & 1.0130077 & 1.357193 & 0.51351060 & 0.1800000\\\\\n",
       "\t4 & 5.371079 & 4.140032 & 3.447220 & 4.385876 & 3.882168 & 3.6627018 & 2.215791 & 0.9855729 & 1.182571 & 0.00000000 & 0.2632093\\\\\n",
       "\t5 & 5.429003 & 4.795274 & 4.497824 & 4.654043 & 4.680795 & 4.7993521 & 2.187695 & 1.0047619 & 1.671739 & 0.21066550 & 0.2747303\\\\\n",
       "\t6 & 5.207011 & 4.504030 & 3.931605 & 4.375656 & 4.356506 & 4.4212860 & 3.708271 & 1.0358760 & 1.704288 & 0.52866851 & 0.1800000\\\\\n",
       "\t7 & 4.904228 & 3.936941 & 3.384633 & 4.092953 & 3.979756 & 3.9017120 & 4.349046 & 0.9650857 & 1.533210 & 0.54393205 & 0.1800000\\\\\n",
       "\t8 & 3.999992 & 2.000019 & 1.000032 & 2.999991 & 1.500034 & 0.7500549 & 1.000063 & 0.9997203 & 1.999856 & 0.49987264 & 0.1911075\\\\\n",
       "\t9 & 4.242777 & 3.506629 & 3.030028 & 3.677878 & 3.288199 & 3.5296434 & 2.297520 & 1.0294819 & 1.631121 & 0.19201079 & 0.2542930\\\\\n",
       "\t10 & 5.296763 & 4.337067 & 3.913182 & 4.398814 & 4.220372 & 4.2940558 & 2.873926 & 0.9104033 & 1.437084 & 0.10273367 & 0.2480857\\\\\n",
       "\t11 & 5.694480 & 4.920511 & 4.503522 & 4.708943 & 5.131415 & 5.2869320 & 3.940679 & 1.2387508 & 1.698335 & 0.40022999 & 0.2333141\\\\\n",
       "\t12 & 4.534835 & 3.444250 & 2.915772 & 3.651066 & 3.436956 & 3.3574766 & 3.244819 & 1.0811280 & 1.542989 & 0.42248557 & 0.1800000\\\\\n",
       "\t13 & 3.918755 & 3.188935 & 2.688521 & 3.224375 & 2.963653 & 2.9038484 & 2.857345 & 0.9393480 & 1.387982 & 0.00000000 & 0.2886617\\\\\n",
       "\t14 & 4.357812 & 3.248772 & 2.810986 & 3.178929 & 2.683006 & 2.7188280 & 1.872641 & 1.0600968 & 1.721899 & 0.30846904 & 0.1852835\\\\\n",
       "\t15 & 4.012004 & 3.658428 & 3.341032 & 3.423611 & 3.568091 & 3.8774281 & 2.682323 & 0.8537632 & 1.879002 & 0.26202816 & 0.2798168\\\\\n",
       "\t16 & 4.089770 & 3.198250 & 2.916448 & 3.313088 & 3.097516 & 3.0944210 & 3.148409 & 0.9727121 & 1.725686 & 0.45857639 & 0.1843853\\\\\n",
       "\t17 & 4.206040 & 3.645797 & 3.356428 & 3.521840 & 3.483472 & 3.4374711 & 1.721787 & 1.0612078 & 1.719609 & 0.30216102 & 0.2382000\\\\\n",
       "\\end{tabular}\n"
      ],
      "text/markdown": [
       "\n",
       "A matrix: 17 × 11 of type dbl\n",
       "\n",
       "| <!--/--> | v_word_high | v_word_low | v_word_very_low | v_nonword_high | v_nonword_low | v_nonword_very_low | v_incorrect | Bs | Ba | A | t0 |\n",
       "|---|---|---|---|---|---|---|---|---|---|---|---|\n",
       "| 1 | 5.202767 | 4.345004 | 3.668015 | 4.404602 | 4.402690 | 4.3928879 | 2.760401 | 1.3164006 | 1.378152 | 0.26753575 | 0.2276522 |\n",
       "| 2 | 4.080139 | 3.349044 | 2.907155 | 3.450565 | 3.416299 | 3.0926245 | 1.894111 | 0.9197738 | 1.478853 | 0.04515787 | 0.3295869 |\n",
       "| 3 | 4.214557 | 3.221414 | 2.721497 | 3.414412 | 2.992679 | 2.8409964 | 1.762753 | 1.0130077 | 1.357193 | 0.51351060 | 0.1800000 |\n",
       "| 4 | 5.371079 | 4.140032 | 3.447220 | 4.385876 | 3.882168 | 3.6627018 | 2.215791 | 0.9855729 | 1.182571 | 0.00000000 | 0.2632093 |\n",
       "| 5 | 5.429003 | 4.795274 | 4.497824 | 4.654043 | 4.680795 | 4.7993521 | 2.187695 | 1.0047619 | 1.671739 | 0.21066550 | 0.2747303 |\n",
       "| 6 | 5.207011 | 4.504030 | 3.931605 | 4.375656 | 4.356506 | 4.4212860 | 3.708271 | 1.0358760 | 1.704288 | 0.52866851 | 0.1800000 |\n",
       "| 7 | 4.904228 | 3.936941 | 3.384633 | 4.092953 | 3.979756 | 3.9017120 | 4.349046 | 0.9650857 | 1.533210 | 0.54393205 | 0.1800000 |\n",
       "| 8 | 3.999992 | 2.000019 | 1.000032 | 2.999991 | 1.500034 | 0.7500549 | 1.000063 | 0.9997203 | 1.999856 | 0.49987264 | 0.1911075 |\n",
       "| 9 | 4.242777 | 3.506629 | 3.030028 | 3.677878 | 3.288199 | 3.5296434 | 2.297520 | 1.0294819 | 1.631121 | 0.19201079 | 0.2542930 |\n",
       "| 10 | 5.296763 | 4.337067 | 3.913182 | 4.398814 | 4.220372 | 4.2940558 | 2.873926 | 0.9104033 | 1.437084 | 0.10273367 | 0.2480857 |\n",
       "| 11 | 5.694480 | 4.920511 | 4.503522 | 4.708943 | 5.131415 | 5.2869320 | 3.940679 | 1.2387508 | 1.698335 | 0.40022999 | 0.2333141 |\n",
       "| 12 | 4.534835 | 3.444250 | 2.915772 | 3.651066 | 3.436956 | 3.3574766 | 3.244819 | 1.0811280 | 1.542989 | 0.42248557 | 0.1800000 |\n",
       "| 13 | 3.918755 | 3.188935 | 2.688521 | 3.224375 | 2.963653 | 2.9038484 | 2.857345 | 0.9393480 | 1.387982 | 0.00000000 | 0.2886617 |\n",
       "| 14 | 4.357812 | 3.248772 | 2.810986 | 3.178929 | 2.683006 | 2.7188280 | 1.872641 | 1.0600968 | 1.721899 | 0.30846904 | 0.1852835 |\n",
       "| 15 | 4.012004 | 3.658428 | 3.341032 | 3.423611 | 3.568091 | 3.8774281 | 2.682323 | 0.8537632 | 1.879002 | 0.26202816 | 0.2798168 |\n",
       "| 16 | 4.089770 | 3.198250 | 2.916448 | 3.313088 | 3.097516 | 3.0944210 | 3.148409 | 0.9727121 | 1.725686 | 0.45857639 | 0.1843853 |\n",
       "| 17 | 4.206040 | 3.645797 | 3.356428 | 3.521840 | 3.483472 | 3.4374711 | 1.721787 | 1.0612078 | 1.719609 | 0.30216102 | 0.2382000 |\n",
       "\n"
      ],
      "text/plain": [
       "   v_word_high v_word_low v_word_very_low v_nonword_high v_nonword_low\n",
       "1  5.202767    4.345004   3.668015        4.404602       4.402690     \n",
       "2  4.080139    3.349044   2.907155        3.450565       3.416299     \n",
       "3  4.214557    3.221414   2.721497        3.414412       2.992679     \n",
       "4  5.371079    4.140032   3.447220        4.385876       3.882168     \n",
       "5  5.429003    4.795274   4.497824        4.654043       4.680795     \n",
       "6  5.207011    4.504030   3.931605        4.375656       4.356506     \n",
       "7  4.904228    3.936941   3.384633        4.092953       3.979756     \n",
       "8  3.999992    2.000019   1.000032        2.999991       1.500034     \n",
       "9  4.242777    3.506629   3.030028        3.677878       3.288199     \n",
       "10 5.296763    4.337067   3.913182        4.398814       4.220372     \n",
       "11 5.694480    4.920511   4.503522        4.708943       5.131415     \n",
       "12 4.534835    3.444250   2.915772        3.651066       3.436956     \n",
       "13 3.918755    3.188935   2.688521        3.224375       2.963653     \n",
       "14 4.357812    3.248772   2.810986        3.178929       2.683006     \n",
       "15 4.012004    3.658428   3.341032        3.423611       3.568091     \n",
       "16 4.089770    3.198250   2.916448        3.313088       3.097516     \n",
       "17 4.206040    3.645797   3.356428        3.521840       3.483472     \n",
       "   v_nonword_very_low v_incorrect Bs        Ba       A          t0       \n",
       "1  4.3928879          2.760401    1.3164006 1.378152 0.26753575 0.2276522\n",
       "2  3.0926245          1.894111    0.9197738 1.478853 0.04515787 0.3295869\n",
       "3  2.8409964          1.762753    1.0130077 1.357193 0.51351060 0.1800000\n",
       "4  3.6627018          2.215791    0.9855729 1.182571 0.00000000 0.2632093\n",
       "5  4.7993521          2.187695    1.0047619 1.671739 0.21066550 0.2747303\n",
       "6  4.4212860          3.708271    1.0358760 1.704288 0.52866851 0.1800000\n",
       "7  3.9017120          4.349046    0.9650857 1.533210 0.54393205 0.1800000\n",
       "8  0.7500549          1.000063    0.9997203 1.999856 0.49987264 0.1911075\n",
       "9  3.5296434          2.297520    1.0294819 1.631121 0.19201079 0.2542930\n",
       "10 4.2940558          2.873926    0.9104033 1.437084 0.10273367 0.2480857\n",
       "11 5.2869320          3.940679    1.2387508 1.698335 0.40022999 0.2333141\n",
       "12 3.3574766          3.244819    1.0811280 1.542989 0.42248557 0.1800000\n",
       "13 2.9038484          2.857345    0.9393480 1.387982 0.00000000 0.2886617\n",
       "14 2.7188280          1.872641    1.0600968 1.721899 0.30846904 0.1852835\n",
       "15 3.8774281          2.682323    0.8537632 1.879002 0.26202816 0.2798168\n",
       "16 3.0944210          3.148409    0.9727121 1.725686 0.45857639 0.1843853\n",
       "17 3.4374711          1.721787    1.0612078 1.719609 0.30216102 0.2382000"
      ]
     },
     "metadata": {},
     "output_type": "display_data"
    }
   ],
   "source": [
    "param_table"
   ]
  },
  {
   "cell_type": "code",
   "execution_count": 190,
   "id": "8c9028f2",
   "metadata": {
    "vscode": {
     "languageId": "r"
    }
   },
   "outputs": [
    {
     "data": {
      "text/html": [
       "<table class=\"dataframe\">\n",
       "<caption>A tibble: 17 × 2</caption>\n",
       "<thead>\n",
       "\t<tr><th scope=col>id</th><th scope=col>mean_rt</th></tr>\n",
       "\t<tr><th scope=col>&lt;fct&gt;</th><th scope=col>&lt;int&gt;</th></tr>\n",
       "</thead>\n",
       "<tbody>\n",
       "\t<tr><td>1 </td><td> 0</td></tr>\n",
       "\t<tr><td>2 </td><td> 1</td></tr>\n",
       "\t<tr><td>3 </td><td> 3</td></tr>\n",
       "\t<tr><td>4 </td><td> 0</td></tr>\n",
       "\t<tr><td>5 </td><td> 0</td></tr>\n",
       "\t<tr><td>6 </td><td> 7</td></tr>\n",
       "\t<tr><td>7 </td><td>10</td></tr>\n",
       "\t<tr><td>8 </td><td>21</td></tr>\n",
       "\t<tr><td>9 </td><td> 0</td></tr>\n",
       "\t<tr><td>10</td><td> 0</td></tr>\n",
       "\t<tr><td>11</td><td> 0</td></tr>\n",
       "\t<tr><td>12</td><td> 3</td></tr>\n",
       "\t<tr><td>13</td><td> 0</td></tr>\n",
       "\t<tr><td>14</td><td> 1</td></tr>\n",
       "\t<tr><td>15</td><td> 0</td></tr>\n",
       "\t<tr><td>16</td><td> 5</td></tr>\n",
       "\t<tr><td>17</td><td> 0</td></tr>\n",
       "</tbody>\n",
       "</table>\n"
      ],
      "text/latex": [
       "A tibble: 17 × 2\n",
       "\\begin{tabular}{ll}\n",
       " id & mean\\_rt\\\\\n",
       " <fct> & <int>\\\\\n",
       "\\hline\n",
       "\t 1  &  0\\\\\n",
       "\t 2  &  1\\\\\n",
       "\t 3  &  3\\\\\n",
       "\t 4  &  0\\\\\n",
       "\t 5  &  0\\\\\n",
       "\t 6  &  7\\\\\n",
       "\t 7  & 10\\\\\n",
       "\t 8  & 21\\\\\n",
       "\t 9  &  0\\\\\n",
       "\t 10 &  0\\\\\n",
       "\t 11 &  0\\\\\n",
       "\t 12 &  3\\\\\n",
       "\t 13 &  0\\\\\n",
       "\t 14 &  1\\\\\n",
       "\t 15 &  0\\\\\n",
       "\t 16 &  5\\\\\n",
       "\t 17 &  0\\\\\n",
       "\\end{tabular}\n"
      ],
      "text/markdown": [
       "\n",
       "A tibble: 17 × 2\n",
       "\n",
       "| id &lt;fct&gt; | mean_rt &lt;int&gt; |\n",
       "|---|---|\n",
       "| 1  |  0 |\n",
       "| 2  |  1 |\n",
       "| 3  |  3 |\n",
       "| 4  |  0 |\n",
       "| 5  |  0 |\n",
       "| 6  |  7 |\n",
       "| 7  | 10 |\n",
       "| 8  | 21 |\n",
       "| 9  |  0 |\n",
       "| 10 |  0 |\n",
       "| 11 |  0 |\n",
       "| 12 |  3 |\n",
       "| 13 |  0 |\n",
       "| 14 |  1 |\n",
       "| 15 |  0 |\n",
       "| 16 |  5 |\n",
       "| 17 |  0 |\n",
       "\n"
      ],
      "text/plain": [
       "   id mean_rt\n",
       "1  1   0     \n",
       "2  2   1     \n",
       "3  3   3     \n",
       "4  4   0     \n",
       "5  5   0     \n",
       "6  6   7     \n",
       "7  7  10     \n",
       "8  8  21     \n",
       "9  9   0     \n",
       "10 10  0     \n",
       "11 11  0     \n",
       "12 12  3     \n",
       "13 13  0     \n",
       "14 14  1     \n",
       "15 15  0     \n",
       "16 16  5     \n",
       "17 17  0     "
      ]
     },
     "metadata": {},
     "output_type": "display_data"
    }
   ],
   "source": [
    "wagenmaker_df %>% group_by(id) %>%\n",
    "summarise(mean_rt = sum(rt <= 0.25))"
   ]
  },
  {
   "cell_type": "markdown",
   "id": "07824e21",
   "metadata": {},
   "source": [
    "# RECOVERY VALIDATION"
   ]
  },
  {
   "cell_type": "code",
   "execution_count": 47,
   "id": "7f069dcb",
   "metadata": {
    "vscode": {
     "languageId": "r"
    }
   },
   "outputs": [],
   "source": [
    "# Define value ranges\n",
    "t0_vals <- seq(0, 0.3, length.out = 50)\n",
    "v_word_high_vals <- seq(1, 6, length.out = 50)\n",
    "A_vals = seq(0, 2, length.out = 50)\n",
    "Ba_vals = seq(0, 3, length.out = 50)\n",
    "Bs_vals = seq(0, 3, length.out = 50)\n"
   ]
  },
  {
   "cell_type": "markdown",
   "id": "472c5cfc",
   "metadata": {},
   "source": [
    "## SUB1 SURFACES"
   ]
  },
  {
   "cell_type": "code",
   "execution_count": 54,
   "id": "7fcd6cdc",
   "metadata": {
    "vscode": {
     "languageId": "r"
    }
   },
   "outputs": [],
   "source": [
    "sub1_params = all_params[[1]]\n",
    "sub1_obs = wagenmaker_df %>% filter(id == 1)"
   ]
  },
  {
   "cell_type": "code",
   "execution_count": 55,
   "id": "3c47c151",
   "metadata": {
    "vscode": {
     "languageId": "r"
    }
   },
   "outputs": [],
   "source": [
    "grid_v_sub1 <- expand.grid(\n",
    "  t0 = t0_vals,\n",
    "  v_word_high = v_word_high_vals\n",
    ")\n",
    "grid_A_sub1 <- expand.grid(\n",
    "  t0 = t0_vals,\n",
    "  A = A_vals\n",
    ")\n",
    "grid_Bs_sub1 <- expand.grid(\n",
    "  t0 = t0_vals,\n",
    "  Bs = Bs_vals\n",
    ")"
   ]
  },
  {
   "cell_type": "code",
   "execution_count": 149,
   "id": "6e590ae4",
   "metadata": {
    "vscode": {
     "languageId": "r"
    }
   },
   "outputs": [],
   "source": [
    "# ll_surface_t0_v_sub1 <- apply(grid_v_sub1, 1, function(row) {\n",
    "#   test_params <- sub1_params\n",
    "#   test_params[\"t0\"] <- row[1]\n",
    "#   test_params[\"v_word_high\"] <- row[2]\n",
    "#   logger_mogger(test_params, sub1_obs)\n",
    "# })\n",
    "# saveRDS(object = ll_surface_t0_v_sub1, file='ll_surface_t0_v_sub1.rds')\n",
    "\n",
    "grid_v_sub1$loglik = readRDS(file='ll_surface_t0_v_sub1.rds')"
   ]
  },
  {
   "cell_type": "code",
   "execution_count": 60,
   "id": "58d7c6ac",
   "metadata": {
    "vscode": {
     "languageId": "r"
    }
   },
   "outputs": [],
   "source": [
    "# ll_surface_t0_A_sub1 <- apply(grid_A_sub1, 1, function(row) {\n",
    "#   test_params <- sub1_params\n",
    "#   test_params[\"t0\"] <- row[1]\n",
    "#   test_params[\"A\"] <- row[2]\n",
    "#   logger_mogger(test_params, sub1_obs)\n",
    "# })\n",
    "# saveRDS(object = ll_surface_t0_A_sub1, file='ll_surface_t0_A_sub1.rds')\n",
    "grid_A_sub1$loglik = readRDS(file='ll_surface_t0_A_sub1.rds')"
   ]
  },
  {
   "cell_type": "code",
   "execution_count": 64,
   "id": "da1b1612",
   "metadata": {
    "vscode": {
     "languageId": "r"
    }
   },
   "outputs": [],
   "source": [
    "# ll_surface_t0_Bs_sub1 <- apply(grid_Bs_sub1, 1, function(row) {\n",
    "#   test_params <- sub1_params\n",
    "#   test_params[\"t0\"] <- row[1]\n",
    "#   test_params[\"Bs\"] <- row[2]\n",
    "#   logger_mogger(test_params, sub1_obs)\n",
    "# })\n",
    "# saveRDS(object = ll_surface_t0_Bs_sub1, file='ll_surface_t0_Bs_sub1.rds')\n",
    "grid_Bs_sub1$loglik = readRDS(file='ll_surface_t0_Bs_sub1.rds')\n"
   ]
  },
  {
   "cell_type": "code",
   "execution_count": 175,
   "id": "12b1d430",
   "metadata": {
    "vscode": {
     "languageId": "r"
    }
   },
   "outputs": [],
   "source": [
    "sub1_v_surf = ggplot(grid_v_sub1, aes(x = t0, y = v_word_high, fill = loglik)) +\n",
    "  geom_tile() +\n",
    "  scale_fill_viridis_c(option = \"turbo\") +\n",
    "  labs(x = \"t0\", y = \"v_word_high\", fill = 'Negative \\nLog-Likelihood') +\n",
    "  theme_minimal()\n",
    "ggsave(filename = \"sub1_v_surf.jpg\", plot = sub1_v_surf, width = 10, height = 5)"
   ]
  },
  {
   "cell_type": "code",
   "execution_count": null,
   "id": "c9b79ef2",
   "metadata": {
    "vscode": {
     "languageId": "r"
    }
   },
   "outputs": [],
   "source": [
    "sub1_A_surf = ggplot(grid_A_sub1, aes(x = t0, y = A, fill = loglik)) +\n",
    "  geom_tile() +\n",
    "  scale_fill_viridis_c(option = \"turbo\") +\n",
    "  labs(x = \"t0\", y = \"A\", fill = 'Negative \\nLog-Likelihood') +\n",
    "  theme_minimal()\n",
    "ggsave(filename = \"sub1_A_surf.jpg\", plot = sub1_A_surf, width = 10, height = 5)"
   ]
  },
  {
   "cell_type": "code",
   "execution_count": 176,
   "id": "f9d27784",
   "metadata": {
    "vscode": {
     "languageId": "r"
    }
   },
   "outputs": [],
   "source": [
    "sub1_Bs_surf = ggplot(grid_Bs_sub1, aes(x = t0, y = Bs, fill = loglik)) +\n",
    "  geom_tile() +\n",
    "  scale_fill_viridis_c(option = \"turbo\") +\n",
    "  labs(x = \"t0\", y = \"Bs\", fill = 'Negative \\nLog-Likelihood') +\n",
    "  theme_minimal()\n",
    "ggsave(filename = \"sub1_Bs_surf.jpg\", plot = sub1_Bs_surf, width = 10, height = 5)"
   ]
  },
  {
   "cell_type": "markdown",
   "id": "d5208a4b",
   "metadata": {},
   "source": [
    "## SUB8 SURFACES"
   ]
  },
  {
   "cell_type": "code",
   "execution_count": 65,
   "id": "85d62dac",
   "metadata": {
    "vscode": {
     "languageId": "r"
    }
   },
   "outputs": [],
   "source": [
    "sub8_params = all_params[[8]]\n",
    "sub8_obs = wagenmaker_df %>% filter(id == 8)"
   ]
  },
  {
   "cell_type": "code",
   "execution_count": 66,
   "id": "188eee7a",
   "metadata": {
    "vscode": {
     "languageId": "r"
    }
   },
   "outputs": [],
   "source": [
    "grid_v_sub8 <- expand.grid(\n",
    "  t0 = t0_vals,\n",
    "  v_word_high = v_word_high_vals\n",
    ")\n",
    "grid_A_sub8 <- expand.grid(\n",
    "  t0 = t0_vals,\n",
    "  A = A_vals\n",
    ")\n",
    "grid_Bs_sub8 <- expand.grid(\n",
    "  t0 = t0_vals,\n",
    "  Bs = Bs_vals\n",
    ")"
   ]
  },
  {
   "cell_type": "code",
   "execution_count": null,
   "id": "f54c2945",
   "metadata": {
    "vscode": {
     "languageId": "r"
    }
   },
   "outputs": [],
   "source": [
    "# ll_surface_t0_v_sub8 <- apply(grid_v_sub8, 1, function(row) {\n",
    "#   test_params <- sub8_params\n",
    "#   test_params[\"t0\"] <- row[1]\n",
    "#   test_params[\"v_word_high\"] <- row[2]\n",
    "#   logger_mogger(test_params, sub8_obs)\n",
    "# })\n",
    "# saveRDS(object = ll_surface_t0_v_sub8, file='ll_surface_t0_v_sub8.rds')\n",
    "\n",
    "grid_v_sub8$loglik = readRDS(file='ll_surface_t0_v_sub8.rds')"
   ]
  },
  {
   "cell_type": "code",
   "execution_count": null,
   "id": "2bf6d60d",
   "metadata": {
    "vscode": {
     "languageId": "r"
    }
   },
   "outputs": [],
   "source": [
    "# ll_surface_t0_A_sub8 <- apply(grid_A_sub8, 1, function(row) {\n",
    "#   test_params <- sub8_params\n",
    "#   test_params[\"t0\"] <- row[1]\n",
    "#   test_params[\"A\"] <- row[2]\n",
    "#   logger_mogger(test_params, sub8_obs)\n",
    "# })\n",
    "# saveRDS(object = ll_surface_t0_A_sub8, file='ll_surface_t0_A_sub8.rds')\n",
    "grid_A_sub8$loglik = readRDS(file='ll_surface_t0_A_sub8.rds')"
   ]
  },
  {
   "cell_type": "code",
   "execution_count": null,
   "id": "2fe12a25",
   "metadata": {
    "vscode": {
     "languageId": "r"
    }
   },
   "outputs": [],
   "source": [
    "# ll_surface_t0_Bs_sub8 <- apply(grid_Bs_sub8, 1, function(row) {\n",
    "#   test_params <- sub8_params\n",
    "#   test_params[\"t0\"] <- row[1]\n",
    "#   test_params[\"Bs\"] <- row[2]\n",
    "#   logger_mogger(test_params, sub8_obs)\n",
    "# })\n",
    "# saveRDS(object = ll_surface_t0_Bs_sub8, file='ll_surface_t0_Bs_sub8.rds')\n",
    "grid_Bs_sub8$loglik = readRDS(file='ll_surface_t0_Bs_sub8.rds')\n"
   ]
  },
  {
   "cell_type": "code",
   "execution_count": 177,
   "id": "3653ca01",
   "metadata": {
    "vscode": {
     "languageId": "r"
    }
   },
   "outputs": [],
   "source": [
    "sub8_v_surf = ggplot(grid_v_sub8, aes(x = t0, y = v_word_high, fill = loglik)) +\n",
    "  geom_tile() +\n",
    "  scale_fill_viridis_c(option = \"turbo\") +\n",
    "  labs(x = \"t0\", y = \"v_word_high\", fill = 'Negative \\nLog-Likelihood') +\n",
    "  theme_minimal()\n",
    "ggsave(filename = \"sub8_v_surf.jpg\", plot = sub8_v_surf, width = 10, height = 5)"
   ]
  },
  {
   "cell_type": "code",
   "execution_count": 178,
   "id": "bdf17cd0",
   "metadata": {
    "vscode": {
     "languageId": "r"
    }
   },
   "outputs": [],
   "source": [
    "sub8_A_surf = ggplot(grid_A_sub8, aes(x = t0, y = A, fill = loglik)) +\n",
    "  geom_tile() +\n",
    "  scale_fill_viridis_c(option = \"turbo\") +\n",
    "  labs(x = \"t0\", y = \"A\", fill = 'Negative \\nLog-Likelihood') +\n",
    "  theme_minimal()\n",
    "ggsave(filename = \"sub8_A_surf.jpg\", plot = sub8_A_surf, width = 10, height = 5)"
   ]
  },
  {
   "cell_type": "code",
   "execution_count": 179,
   "id": "6e166a99",
   "metadata": {
    "vscode": {
     "languageId": "r"
    }
   },
   "outputs": [],
   "source": [
    "sub8_Bs_surf = ggplot(grid_Bs_sub8, aes(x = t0, y = Bs, fill = loglik)) +\n",
    "  geom_tile() +\n",
    "  scale_fill_viridis_c(option = \"turbo\") +\n",
    "  labs(x = \"t0\", y = \"Bs\", fill = 'Negative \\nLog-Likelihood') +\n",
    "  theme_minimal()\n",
    "ggsave(filename = \"sub8_Bs_surf.jpg\", plot = sub8_Bs_surf, width = 10, height = 5)"
   ]
  },
  {
   "cell_type": "markdown",
   "id": "6dc4e966",
   "metadata": {},
   "source": [
    "## SUBJECT DATA AND RECOVERED PARAMETER SIMULATION"
   ]
  },
  {
   "cell_type": "code",
   "execution_count": 69,
   "id": "48c8e410",
   "metadata": {
    "vscode": {
     "languageId": "r"
    }
   },
   "outputs": [],
   "source": [
    "sub1_v_words = sub1_params[1:3]\n",
    "sub1_v_nonwords = sub1_params[4:6]\n",
    "sub1_v_incorrect = sub1_params[7]\n",
    "sub1_Bs = sub1_params[[8]]\n",
    "sub1_Ba = sub1_params[[9]]\n",
    "sub1_A = sub1_params[[10]]\n",
    "sub1_t0 = sub1_params[[11]]\n"
   ]
  },
  {
   "cell_type": "code",
   "execution_count": null,
   "id": "62bda55c",
   "metadata": {
    "vscode": {
     "languageId": "r"
    }
   },
   "outputs": [
    {
     "name": "stdout",
     "output_type": "stream",
     "text": [
      "v_incorrect \n",
      "   2.760401 \n"
     ]
    }
   ],
   "source": [
    "sub1_sims = list()\n",
    "for(i in 1:nrow(sub1_obs)){\n",
    "    condition = sub1_obs$condition[i]\n",
    "    stim_cat = sub1_obs$stim_cat[i]\n",
    "    frequency = sub1_obs$frequency[i]\n",
    "    if(stim_cat == 'word'){\n",
    "        v = sub1_v_words[paste('v_word_', frequency, sep=\"\")][[1]]\n",
    "    } else {\n",
    "        v = sub1_v_nonwords[paste('v_nonword_', frequency, sep=\"\")][[1]]\n",
    "    }\n",
    "    B = ifelse(condition == 'speed', yes = sub1_Bs, no = sub1_Ba)\n",
    "    sim = rWaldRace(n = 1, v = c(v, sub1_v_incorrect), B = B, A = sub1_A, t0 = sub1_t0)\n",
    "    opt = c('word', 'nonword')\n",
    "    response <- if (sim$R == 1) stim_cat else setdiff(opt, stim_cat)\n",
    "    rt = sim$RT\n",
    "    sub1_sims[[i]] <- data.frame(\n",
    "    condition = condition,\n",
    "    stim_cat = stim_cat,\n",
    "    frequency = frequency,\n",
    "    response = response,\n",
    "    rt = rt\n",
    "    )\n",
    "}\n"
   ]
  },
  {
   "cell_type": "code",
   "execution_count": 124,
   "id": "f00815b0",
   "metadata": {
    "vscode": {
     "languageId": "r"
    }
   },
   "outputs": [],
   "source": [
    "simmers = do.call(rbind, sub1_sims) \n",
    "simmers$source = 'simulated'\n",
    "ss_obs = wagenmaker_df %>% filter(id == 1) %>% select(condition, stim_cat, frequency, response, rt)\n",
    "ss_obs$source = 'observed'"
   ]
  },
  {
   "cell_type": "code",
   "execution_count": 134,
   "id": "6f48527d",
   "metadata": {
    "vscode": {
     "languageId": "r"
    }
   },
   "outputs": [
    {
     "data": {
      "text/html": [
       "<table class=\"dataframe\">\n",
       "<caption>A data.frame: 3840 × 7</caption>\n",
       "<thead>\n",
       "\t<tr><th scope=col>condition</th><th scope=col>stim_cat</th><th scope=col>frequency</th><th scope=col>response</th><th scope=col>rt</th><th scope=col>source</th><th scope=col>correct</th></tr>\n",
       "\t<tr><th scope=col>&lt;fct&gt;</th><th scope=col>&lt;chr&gt;</th><th scope=col>&lt;fct&gt;</th><th scope=col>&lt;chr&gt;</th><th scope=col>&lt;dbl&gt;</th><th scope=col>&lt;chr&gt;</th><th scope=col>&lt;lgl&gt;</th></tr>\n",
       "</thead>\n",
       "<tbody>\n",
       "\t<tr><td>speed</td><td>nonword</td><td>low     </td><td>nonword</td><td>0.5723227</td><td>simulated</td><td> TRUE</td></tr>\n",
       "\t<tr><td>speed</td><td>word   </td><td>very_low</td><td>nonword</td><td>0.4500864</td><td>simulated</td><td>FALSE</td></tr>\n",
       "\t<tr><td>speed</td><td>nonword</td><td>very_low</td><td>word   </td><td>0.4038676</td><td>simulated</td><td>FALSE</td></tr>\n",
       "\t<tr><td>speed</td><td>word   </td><td>very_low</td><td>word   </td><td>0.5220874</td><td>simulated</td><td> TRUE</td></tr>\n",
       "\t<tr><td>speed</td><td>word   </td><td>low     </td><td>word   </td><td>0.5536272</td><td>simulated</td><td> TRUE</td></tr>\n",
       "\t<tr><td>speed</td><td>nonword</td><td>high    </td><td>nonword</td><td>0.3453982</td><td>simulated</td><td> TRUE</td></tr>\n",
       "\t<tr><td>speed</td><td>word   </td><td>high    </td><td>nonword</td><td>0.4603922</td><td>simulated</td><td>FALSE</td></tr>\n",
       "\t<tr><td>speed</td><td>nonword</td><td>low     </td><td>nonword</td><td>0.7252640</td><td>simulated</td><td> TRUE</td></tr>\n",
       "\t<tr><td>speed</td><td>nonword</td><td>low     </td><td>word   </td><td>0.4590596</td><td>simulated</td><td>FALSE</td></tr>\n",
       "\t<tr><td>speed</td><td>word   </td><td>high    </td><td>word   </td><td>0.4548138</td><td>simulated</td><td> TRUE</td></tr>\n",
       "\t<tr><td>speed</td><td>nonword</td><td>very_low</td><td>nonword</td><td>0.5147041</td><td>simulated</td><td> TRUE</td></tr>\n",
       "\t<tr><td>speed</td><td>word   </td><td>high    </td><td>word   </td><td>0.6278324</td><td>simulated</td><td> TRUE</td></tr>\n",
       "\t<tr><td>speed</td><td>nonword</td><td>very_low</td><td>nonword</td><td>0.4497761</td><td>simulated</td><td> TRUE</td></tr>\n",
       "\t<tr><td>speed</td><td>word   </td><td>high    </td><td>word   </td><td>0.4797033</td><td>simulated</td><td> TRUE</td></tr>\n",
       "\t<tr><td>speed</td><td>word   </td><td>high    </td><td>word   </td><td>0.5090897</td><td>simulated</td><td> TRUE</td></tr>\n",
       "\t<tr><td>speed</td><td>nonword</td><td>low     </td><td>nonword</td><td>0.5455240</td><td>simulated</td><td> TRUE</td></tr>\n",
       "\t<tr><td>speed</td><td>nonword</td><td>high    </td><td>nonword</td><td>0.4481199</td><td>simulated</td><td> TRUE</td></tr>\n",
       "\t<tr><td>speed</td><td>word   </td><td>very_low</td><td>word   </td><td>0.4458845</td><td>simulated</td><td> TRUE</td></tr>\n",
       "\t<tr><td>speed</td><td>word   </td><td>low     </td><td>nonword</td><td>0.4272439</td><td>simulated</td><td>FALSE</td></tr>\n",
       "\t<tr><td>speed</td><td>nonword</td><td>very_low</td><td>nonword</td><td>0.6343073</td><td>simulated</td><td> TRUE</td></tr>\n",
       "\t<tr><td>speed</td><td>word   </td><td>high    </td><td>word   </td><td>0.5811731</td><td>simulated</td><td> TRUE</td></tr>\n",
       "\t<tr><td>speed</td><td>word   </td><td>very_low</td><td>nonword</td><td>0.4538355</td><td>simulated</td><td>FALSE</td></tr>\n",
       "\t<tr><td>speed</td><td>word   </td><td>high    </td><td>word   </td><td>0.4008262</td><td>simulated</td><td> TRUE</td></tr>\n",
       "\t<tr><td>speed</td><td>word   </td><td>low     </td><td>word   </td><td>0.4617594</td><td>simulated</td><td> TRUE</td></tr>\n",
       "\t<tr><td>speed</td><td>nonword</td><td>low     </td><td>word   </td><td>0.6641662</td><td>simulated</td><td>FALSE</td></tr>\n",
       "\t<tr><td>speed</td><td>nonword</td><td>high    </td><td>nonword</td><td>0.5035817</td><td>simulated</td><td> TRUE</td></tr>\n",
       "\t<tr><td>speed</td><td>nonword</td><td>very_low</td><td>nonword</td><td>0.5889774</td><td>simulated</td><td> TRUE</td></tr>\n",
       "\t<tr><td>speed</td><td>nonword</td><td>high    </td><td>nonword</td><td>0.4569440</td><td>simulated</td><td> TRUE</td></tr>\n",
       "\t<tr><td>speed</td><td>nonword</td><td>high    </td><td>nonword</td><td>0.5479037</td><td>simulated</td><td> TRUE</td></tr>\n",
       "\t<tr><td>speed</td><td>word   </td><td>low     </td><td>nonword</td><td>0.5532763</td><td>simulated</td><td>FALSE</td></tr>\n",
       "\t<tr><td>⋮</td><td>⋮</td><td>⋮</td><td>⋮</td><td>⋮</td><td>⋮</td><td>⋮</td></tr>\n",
       "\t<tr><td>accuracy</td><td>word   </td><td>low     </td><td>word   </td><td>0.441</td><td>observed</td><td> TRUE</td></tr>\n",
       "\t<tr><td>accuracy</td><td>nonword</td><td>low     </td><td>nonword</td><td>0.740</td><td>observed</td><td> TRUE</td></tr>\n",
       "\t<tr><td>accuracy</td><td>nonword</td><td>very_low</td><td>nonword</td><td>0.460</td><td>observed</td><td> TRUE</td></tr>\n",
       "\t<tr><td>accuracy</td><td>nonword</td><td>very_low</td><td>nonword</td><td>0.391</td><td>observed</td><td> TRUE</td></tr>\n",
       "\t<tr><td>accuracy</td><td>nonword</td><td>high    </td><td>nonword</td><td>0.422</td><td>observed</td><td> TRUE</td></tr>\n",
       "\t<tr><td>accuracy</td><td>word   </td><td>high    </td><td>word   </td><td>0.514</td><td>observed</td><td> TRUE</td></tr>\n",
       "\t<tr><td>accuracy</td><td>word   </td><td>low     </td><td>word   </td><td>0.538</td><td>observed</td><td> TRUE</td></tr>\n",
       "\t<tr><td>accuracy</td><td>word   </td><td>high    </td><td>word   </td><td>0.412</td><td>observed</td><td> TRUE</td></tr>\n",
       "\t<tr><td>accuracy</td><td>nonword</td><td>very_low</td><td>nonword</td><td>0.612</td><td>observed</td><td> TRUE</td></tr>\n",
       "\t<tr><td>accuracy</td><td>nonword</td><td>low     </td><td>nonword</td><td>0.499</td><td>observed</td><td> TRUE</td></tr>\n",
       "\t<tr><td>accuracy</td><td>word   </td><td>very_low</td><td>word   </td><td>0.446</td><td>observed</td><td> TRUE</td></tr>\n",
       "\t<tr><td>accuracy</td><td>word   </td><td>low     </td><td>word   </td><td>0.470</td><td>observed</td><td> TRUE</td></tr>\n",
       "\t<tr><td>accuracy</td><td>nonword</td><td>high    </td><td>nonword</td><td>0.592</td><td>observed</td><td> TRUE</td></tr>\n",
       "\t<tr><td>accuracy</td><td>word   </td><td>low     </td><td>nonword</td><td>0.500</td><td>observed</td><td>FALSE</td></tr>\n",
       "\t<tr><td>accuracy</td><td>nonword</td><td>high    </td><td>nonword</td><td>0.541</td><td>observed</td><td> TRUE</td></tr>\n",
       "\t<tr><td>accuracy</td><td>nonword</td><td>high    </td><td>nonword</td><td>0.450</td><td>observed</td><td> TRUE</td></tr>\n",
       "\t<tr><td>accuracy</td><td>nonword</td><td>low     </td><td>nonword</td><td>0.412</td><td>observed</td><td> TRUE</td></tr>\n",
       "\t<tr><td>accuracy</td><td>nonword</td><td>low     </td><td>nonword</td><td>0.470</td><td>observed</td><td> TRUE</td></tr>\n",
       "\t<tr><td>accuracy</td><td>word   </td><td>very_low</td><td>nonword</td><td>0.450</td><td>observed</td><td>FALSE</td></tr>\n",
       "\t<tr><td>accuracy</td><td>nonword</td><td>low     </td><td>nonword</td><td>0.581</td><td>observed</td><td> TRUE</td></tr>\n",
       "\t<tr><td>accuracy</td><td>nonword</td><td>low     </td><td>nonword</td><td>0.626</td><td>observed</td><td> TRUE</td></tr>\n",
       "\t<tr><td>accuracy</td><td>nonword</td><td>low     </td><td>nonword</td><td>0.549</td><td>observed</td><td> TRUE</td></tr>\n",
       "\t<tr><td>accuracy</td><td>word   </td><td>low     </td><td>word   </td><td>0.612</td><td>observed</td><td> TRUE</td></tr>\n",
       "\t<tr><td>accuracy</td><td>word   </td><td>high    </td><td>word   </td><td>0.538</td><td>observed</td><td> TRUE</td></tr>\n",
       "\t<tr><td>accuracy</td><td>nonword</td><td>very_low</td><td>nonword</td><td>0.554</td><td>observed</td><td> TRUE</td></tr>\n",
       "\t<tr><td>accuracy</td><td>nonword</td><td>high    </td><td>nonword</td><td>0.499</td><td>observed</td><td> TRUE</td></tr>\n",
       "\t<tr><td>accuracy</td><td>nonword</td><td>low     </td><td>nonword</td><td>0.509</td><td>observed</td><td> TRUE</td></tr>\n",
       "\t<tr><td>accuracy</td><td>word   </td><td>very_low</td><td>nonword</td><td>0.510</td><td>observed</td><td>FALSE</td></tr>\n",
       "\t<tr><td>accuracy</td><td>nonword</td><td>low     </td><td>nonword</td><td>0.678</td><td>observed</td><td> TRUE</td></tr>\n",
       "\t<tr><td>accuracy</td><td>nonword</td><td>low     </td><td>nonword</td><td>0.499</td><td>observed</td><td> TRUE</td></tr>\n",
       "</tbody>\n",
       "</table>\n"
      ],
      "text/latex": [
       "A data.frame: 3840 × 7\n",
       "\\begin{tabular}{lllllll}\n",
       " condition & stim\\_cat & frequency & response & rt & source & correct\\\\\n",
       " <fct> & <chr> & <fct> & <chr> & <dbl> & <chr> & <lgl>\\\\\n",
       "\\hline\n",
       "\t speed & nonword & low      & nonword & 0.5723227 & simulated &  TRUE\\\\\n",
       "\t speed & word    & very\\_low & nonword & 0.4500864 & simulated & FALSE\\\\\n",
       "\t speed & nonword & very\\_low & word    & 0.4038676 & simulated & FALSE\\\\\n",
       "\t speed & word    & very\\_low & word    & 0.5220874 & simulated &  TRUE\\\\\n",
       "\t speed & word    & low      & word    & 0.5536272 & simulated &  TRUE\\\\\n",
       "\t speed & nonword & high     & nonword & 0.3453982 & simulated &  TRUE\\\\\n",
       "\t speed & word    & high     & nonword & 0.4603922 & simulated & FALSE\\\\\n",
       "\t speed & nonword & low      & nonword & 0.7252640 & simulated &  TRUE\\\\\n",
       "\t speed & nonword & low      & word    & 0.4590596 & simulated & FALSE\\\\\n",
       "\t speed & word    & high     & word    & 0.4548138 & simulated &  TRUE\\\\\n",
       "\t speed & nonword & very\\_low & nonword & 0.5147041 & simulated &  TRUE\\\\\n",
       "\t speed & word    & high     & word    & 0.6278324 & simulated &  TRUE\\\\\n",
       "\t speed & nonword & very\\_low & nonword & 0.4497761 & simulated &  TRUE\\\\\n",
       "\t speed & word    & high     & word    & 0.4797033 & simulated &  TRUE\\\\\n",
       "\t speed & word    & high     & word    & 0.5090897 & simulated &  TRUE\\\\\n",
       "\t speed & nonword & low      & nonword & 0.5455240 & simulated &  TRUE\\\\\n",
       "\t speed & nonword & high     & nonword & 0.4481199 & simulated &  TRUE\\\\\n",
       "\t speed & word    & very\\_low & word    & 0.4458845 & simulated &  TRUE\\\\\n",
       "\t speed & word    & low      & nonword & 0.4272439 & simulated & FALSE\\\\\n",
       "\t speed & nonword & very\\_low & nonword & 0.6343073 & simulated &  TRUE\\\\\n",
       "\t speed & word    & high     & word    & 0.5811731 & simulated &  TRUE\\\\\n",
       "\t speed & word    & very\\_low & nonword & 0.4538355 & simulated & FALSE\\\\\n",
       "\t speed & word    & high     & word    & 0.4008262 & simulated &  TRUE\\\\\n",
       "\t speed & word    & low      & word    & 0.4617594 & simulated &  TRUE\\\\\n",
       "\t speed & nonword & low      & word    & 0.6641662 & simulated & FALSE\\\\\n",
       "\t speed & nonword & high     & nonword & 0.5035817 & simulated &  TRUE\\\\\n",
       "\t speed & nonword & very\\_low & nonword & 0.5889774 & simulated &  TRUE\\\\\n",
       "\t speed & nonword & high     & nonword & 0.4569440 & simulated &  TRUE\\\\\n",
       "\t speed & nonword & high     & nonword & 0.5479037 & simulated &  TRUE\\\\\n",
       "\t speed & word    & low      & nonword & 0.5532763 & simulated & FALSE\\\\\n",
       "\t ⋮ & ⋮ & ⋮ & ⋮ & ⋮ & ⋮ & ⋮\\\\\n",
       "\t accuracy & word    & low      & word    & 0.441 & observed &  TRUE\\\\\n",
       "\t accuracy & nonword & low      & nonword & 0.740 & observed &  TRUE\\\\\n",
       "\t accuracy & nonword & very\\_low & nonword & 0.460 & observed &  TRUE\\\\\n",
       "\t accuracy & nonword & very\\_low & nonword & 0.391 & observed &  TRUE\\\\\n",
       "\t accuracy & nonword & high     & nonword & 0.422 & observed &  TRUE\\\\\n",
       "\t accuracy & word    & high     & word    & 0.514 & observed &  TRUE\\\\\n",
       "\t accuracy & word    & low      & word    & 0.538 & observed &  TRUE\\\\\n",
       "\t accuracy & word    & high     & word    & 0.412 & observed &  TRUE\\\\\n",
       "\t accuracy & nonword & very\\_low & nonword & 0.612 & observed &  TRUE\\\\\n",
       "\t accuracy & nonword & low      & nonword & 0.499 & observed &  TRUE\\\\\n",
       "\t accuracy & word    & very\\_low & word    & 0.446 & observed &  TRUE\\\\\n",
       "\t accuracy & word    & low      & word    & 0.470 & observed &  TRUE\\\\\n",
       "\t accuracy & nonword & high     & nonword & 0.592 & observed &  TRUE\\\\\n",
       "\t accuracy & word    & low      & nonword & 0.500 & observed & FALSE\\\\\n",
       "\t accuracy & nonword & high     & nonword & 0.541 & observed &  TRUE\\\\\n",
       "\t accuracy & nonword & high     & nonword & 0.450 & observed &  TRUE\\\\\n",
       "\t accuracy & nonword & low      & nonword & 0.412 & observed &  TRUE\\\\\n",
       "\t accuracy & nonword & low      & nonword & 0.470 & observed &  TRUE\\\\\n",
       "\t accuracy & word    & very\\_low & nonword & 0.450 & observed & FALSE\\\\\n",
       "\t accuracy & nonword & low      & nonword & 0.581 & observed &  TRUE\\\\\n",
       "\t accuracy & nonword & low      & nonword & 0.626 & observed &  TRUE\\\\\n",
       "\t accuracy & nonword & low      & nonword & 0.549 & observed &  TRUE\\\\\n",
       "\t accuracy & word    & low      & word    & 0.612 & observed &  TRUE\\\\\n",
       "\t accuracy & word    & high     & word    & 0.538 & observed &  TRUE\\\\\n",
       "\t accuracy & nonword & very\\_low & nonword & 0.554 & observed &  TRUE\\\\\n",
       "\t accuracy & nonword & high     & nonword & 0.499 & observed &  TRUE\\\\\n",
       "\t accuracy & nonword & low      & nonword & 0.509 & observed &  TRUE\\\\\n",
       "\t accuracy & word    & very\\_low & nonword & 0.510 & observed & FALSE\\\\\n",
       "\t accuracy & nonword & low      & nonword & 0.678 & observed &  TRUE\\\\\n",
       "\t accuracy & nonword & low      & nonword & 0.499 & observed &  TRUE\\\\\n",
       "\\end{tabular}\n"
      ],
      "text/markdown": [
       "\n",
       "A data.frame: 3840 × 7\n",
       "\n",
       "| condition &lt;fct&gt; | stim_cat &lt;chr&gt; | frequency &lt;fct&gt; | response &lt;chr&gt; | rt &lt;dbl&gt; | source &lt;chr&gt; | correct &lt;lgl&gt; |\n",
       "|---|---|---|---|---|---|---|\n",
       "| speed | nonword | low      | nonword | 0.5723227 | simulated |  TRUE |\n",
       "| speed | word    | very_low | nonword | 0.4500864 | simulated | FALSE |\n",
       "| speed | nonword | very_low | word    | 0.4038676 | simulated | FALSE |\n",
       "| speed | word    | very_low | word    | 0.5220874 | simulated |  TRUE |\n",
       "| speed | word    | low      | word    | 0.5536272 | simulated |  TRUE |\n",
       "| speed | nonword | high     | nonword | 0.3453982 | simulated |  TRUE |\n",
       "| speed | word    | high     | nonword | 0.4603922 | simulated | FALSE |\n",
       "| speed | nonword | low      | nonword | 0.7252640 | simulated |  TRUE |\n",
       "| speed | nonword | low      | word    | 0.4590596 | simulated | FALSE |\n",
       "| speed | word    | high     | word    | 0.4548138 | simulated |  TRUE |\n",
       "| speed | nonword | very_low | nonword | 0.5147041 | simulated |  TRUE |\n",
       "| speed | word    | high     | word    | 0.6278324 | simulated |  TRUE |\n",
       "| speed | nonword | very_low | nonword | 0.4497761 | simulated |  TRUE |\n",
       "| speed | word    | high     | word    | 0.4797033 | simulated |  TRUE |\n",
       "| speed | word    | high     | word    | 0.5090897 | simulated |  TRUE |\n",
       "| speed | nonword | low      | nonword | 0.5455240 | simulated |  TRUE |\n",
       "| speed | nonword | high     | nonword | 0.4481199 | simulated |  TRUE |\n",
       "| speed | word    | very_low | word    | 0.4458845 | simulated |  TRUE |\n",
       "| speed | word    | low      | nonword | 0.4272439 | simulated | FALSE |\n",
       "| speed | nonword | very_low | nonword | 0.6343073 | simulated |  TRUE |\n",
       "| speed | word    | high     | word    | 0.5811731 | simulated |  TRUE |\n",
       "| speed | word    | very_low | nonword | 0.4538355 | simulated | FALSE |\n",
       "| speed | word    | high     | word    | 0.4008262 | simulated |  TRUE |\n",
       "| speed | word    | low      | word    | 0.4617594 | simulated |  TRUE |\n",
       "| speed | nonword | low      | word    | 0.6641662 | simulated | FALSE |\n",
       "| speed | nonword | high     | nonword | 0.5035817 | simulated |  TRUE |\n",
       "| speed | nonword | very_low | nonword | 0.5889774 | simulated |  TRUE |\n",
       "| speed | nonword | high     | nonword | 0.4569440 | simulated |  TRUE |\n",
       "| speed | nonword | high     | nonword | 0.5479037 | simulated |  TRUE |\n",
       "| speed | word    | low      | nonword | 0.5532763 | simulated | FALSE |\n",
       "| ⋮ | ⋮ | ⋮ | ⋮ | ⋮ | ⋮ | ⋮ |\n",
       "| accuracy | word    | low      | word    | 0.441 | observed |  TRUE |\n",
       "| accuracy | nonword | low      | nonword | 0.740 | observed |  TRUE |\n",
       "| accuracy | nonword | very_low | nonword | 0.460 | observed |  TRUE |\n",
       "| accuracy | nonword | very_low | nonword | 0.391 | observed |  TRUE |\n",
       "| accuracy | nonword | high     | nonword | 0.422 | observed |  TRUE |\n",
       "| accuracy | word    | high     | word    | 0.514 | observed |  TRUE |\n",
       "| accuracy | word    | low      | word    | 0.538 | observed |  TRUE |\n",
       "| accuracy | word    | high     | word    | 0.412 | observed |  TRUE |\n",
       "| accuracy | nonword | very_low | nonword | 0.612 | observed |  TRUE |\n",
       "| accuracy | nonword | low      | nonword | 0.499 | observed |  TRUE |\n",
       "| accuracy | word    | very_low | word    | 0.446 | observed |  TRUE |\n",
       "| accuracy | word    | low      | word    | 0.470 | observed |  TRUE |\n",
       "| accuracy | nonword | high     | nonword | 0.592 | observed |  TRUE |\n",
       "| accuracy | word    | low      | nonword | 0.500 | observed | FALSE |\n",
       "| accuracy | nonword | high     | nonword | 0.541 | observed |  TRUE |\n",
       "| accuracy | nonword | high     | nonword | 0.450 | observed |  TRUE |\n",
       "| accuracy | nonword | low      | nonword | 0.412 | observed |  TRUE |\n",
       "| accuracy | nonword | low      | nonword | 0.470 | observed |  TRUE |\n",
       "| accuracy | word    | very_low | nonword | 0.450 | observed | FALSE |\n",
       "| accuracy | nonword | low      | nonword | 0.581 | observed |  TRUE |\n",
       "| accuracy | nonword | low      | nonword | 0.626 | observed |  TRUE |\n",
       "| accuracy | nonword | low      | nonword | 0.549 | observed |  TRUE |\n",
       "| accuracy | word    | low      | word    | 0.612 | observed |  TRUE |\n",
       "| accuracy | word    | high     | word    | 0.538 | observed |  TRUE |\n",
       "| accuracy | nonword | very_low | nonword | 0.554 | observed |  TRUE |\n",
       "| accuracy | nonword | high     | nonword | 0.499 | observed |  TRUE |\n",
       "| accuracy | nonword | low      | nonword | 0.509 | observed |  TRUE |\n",
       "| accuracy | word    | very_low | nonword | 0.510 | observed | FALSE |\n",
       "| accuracy | nonword | low      | nonword | 0.678 | observed |  TRUE |\n",
       "| accuracy | nonword | low      | nonword | 0.499 | observed |  TRUE |\n",
       "\n"
      ],
      "text/plain": [
       "     condition stim_cat frequency response rt        source    correct\n",
       "1    speed     nonword  low       nonword  0.5723227 simulated  TRUE  \n",
       "2    speed     word     very_low  nonword  0.4500864 simulated FALSE  \n",
       "3    speed     nonword  very_low  word     0.4038676 simulated FALSE  \n",
       "4    speed     word     very_low  word     0.5220874 simulated  TRUE  \n",
       "5    speed     word     low       word     0.5536272 simulated  TRUE  \n",
       "6    speed     nonword  high      nonword  0.3453982 simulated  TRUE  \n",
       "7    speed     word     high      nonword  0.4603922 simulated FALSE  \n",
       "8    speed     nonword  low       nonword  0.7252640 simulated  TRUE  \n",
       "9    speed     nonword  low       word     0.4590596 simulated FALSE  \n",
       "10   speed     word     high      word     0.4548138 simulated  TRUE  \n",
       "11   speed     nonword  very_low  nonword  0.5147041 simulated  TRUE  \n",
       "12   speed     word     high      word     0.6278324 simulated  TRUE  \n",
       "13   speed     nonword  very_low  nonword  0.4497761 simulated  TRUE  \n",
       "14   speed     word     high      word     0.4797033 simulated  TRUE  \n",
       "15   speed     word     high      word     0.5090897 simulated  TRUE  \n",
       "16   speed     nonword  low       nonword  0.5455240 simulated  TRUE  \n",
       "17   speed     nonword  high      nonword  0.4481199 simulated  TRUE  \n",
       "18   speed     word     very_low  word     0.4458845 simulated  TRUE  \n",
       "19   speed     word     low       nonword  0.4272439 simulated FALSE  \n",
       "20   speed     nonword  very_low  nonword  0.6343073 simulated  TRUE  \n",
       "21   speed     word     high      word     0.5811731 simulated  TRUE  \n",
       "22   speed     word     very_low  nonword  0.4538355 simulated FALSE  \n",
       "23   speed     word     high      word     0.4008262 simulated  TRUE  \n",
       "24   speed     word     low       word     0.4617594 simulated  TRUE  \n",
       "25   speed     nonword  low       word     0.6641662 simulated FALSE  \n",
       "26   speed     nonword  high      nonword  0.5035817 simulated  TRUE  \n",
       "27   speed     nonword  very_low  nonword  0.5889774 simulated  TRUE  \n",
       "28   speed     nonword  high      nonword  0.4569440 simulated  TRUE  \n",
       "29   speed     nonword  high      nonword  0.5479037 simulated  TRUE  \n",
       "30   speed     word     low       nonword  0.5532763 simulated FALSE  \n",
       "⋮    ⋮         ⋮        ⋮         ⋮        ⋮         ⋮         ⋮      \n",
       "3811 accuracy  word     low       word     0.441     observed   TRUE  \n",
       "3812 accuracy  nonword  low       nonword  0.740     observed   TRUE  \n",
       "3813 accuracy  nonword  very_low  nonword  0.460     observed   TRUE  \n",
       "3814 accuracy  nonword  very_low  nonword  0.391     observed   TRUE  \n",
       "3815 accuracy  nonword  high      nonword  0.422     observed   TRUE  \n",
       "3816 accuracy  word     high      word     0.514     observed   TRUE  \n",
       "3817 accuracy  word     low       word     0.538     observed   TRUE  \n",
       "3818 accuracy  word     high      word     0.412     observed   TRUE  \n",
       "3819 accuracy  nonword  very_low  nonword  0.612     observed   TRUE  \n",
       "3820 accuracy  nonword  low       nonword  0.499     observed   TRUE  \n",
       "3821 accuracy  word     very_low  word     0.446     observed   TRUE  \n",
       "3822 accuracy  word     low       word     0.470     observed   TRUE  \n",
       "3823 accuracy  nonword  high      nonword  0.592     observed   TRUE  \n",
       "3824 accuracy  word     low       nonword  0.500     observed  FALSE  \n",
       "3825 accuracy  nonword  high      nonword  0.541     observed   TRUE  \n",
       "3826 accuracy  nonword  high      nonword  0.450     observed   TRUE  \n",
       "3827 accuracy  nonword  low       nonword  0.412     observed   TRUE  \n",
       "3828 accuracy  nonword  low       nonword  0.470     observed   TRUE  \n",
       "3829 accuracy  word     very_low  nonword  0.450     observed  FALSE  \n",
       "3830 accuracy  nonword  low       nonword  0.581     observed   TRUE  \n",
       "3831 accuracy  nonword  low       nonword  0.626     observed   TRUE  \n",
       "3832 accuracy  nonword  low       nonword  0.549     observed   TRUE  \n",
       "3833 accuracy  word     low       word     0.612     observed   TRUE  \n",
       "3834 accuracy  word     high      word     0.538     observed   TRUE  \n",
       "3835 accuracy  nonword  very_low  nonword  0.554     observed   TRUE  \n",
       "3836 accuracy  nonword  high      nonword  0.499     observed   TRUE  \n",
       "3837 accuracy  nonword  low       nonword  0.509     observed   TRUE  \n",
       "3838 accuracy  word     very_low  nonword  0.510     observed  FALSE  \n",
       "3839 accuracy  nonword  low       nonword  0.678     observed   TRUE  \n",
       "3840 accuracy  nonword  low       nonword  0.499     observed   TRUE  "
      ]
     },
     "metadata": {},
     "output_type": "display_data"
    }
   ],
   "source": [
    "bombination <- rbind(simmers, ss_obs) %>%\n",
    "  mutate(\n",
    "    stim_cat = as.character(stim_cat),\n",
    "    response = as.character(response),\n",
    "    correct = stim_cat == response\n",
    "  )\n",
    "\n",
    "bombination"
   ]
  },
  {
   "cell_type": "code",
   "execution_count": 142,
   "id": "0fab3a38",
   "metadata": {
    "vscode": {
     "languageId": "r"
    }
   },
   "outputs": [
    {
     "data": {
      "image/png": "[encoded data removed]",
      "text/plain": [
       "plot without title"
      ]
     },
     "metadata": {
      "image/png": {
       "height": 300,
       "width": 720
      }
     },
     "output_type": "display_data"
    }
   ],
   "source": [
    "bombination_sum <- bombination %>%\n",
    "  group_by(source, condition, frequency) %>%\n",
    "  summarise(correct = mean(correct), .groups = \"drop\")\n",
    "\n",
    "# Bar plot\n",
    "ggplot(bombination_sum, aes(x = source, y = correct, fill = source)) +\n",
    "  geom_bar(stat = \"identity\", position = \"dodge\") +\n",
    "  facet_grid(condition ~ frequency) +\n",
    "  labs(\n",
    "    title = \"Proportion of Correct Responses by Source\",\n",
    "    x = \"Source\",\n",
    "    y = \"Proportion Correct\"\n",
    "  ) +\n",
    "  theme_minimal()"
   ]
  },
  {
   "cell_type": "code",
   "execution_count": 146,
   "id": "28d37da3",
   "metadata": {
    "vscode": {
     "languageId": "r"
    }
   },
   "outputs": [
    {
     "data": {
      "image/png": "[encoded data removed]",
      "text/plain": [
       "plot without title"
      ]
     },
     "metadata": {
      "image/png": {
       "height": 300,
       "width": 720
      }
     },
     "output_type": "display_data"
    }
   ],
   "source": [
    "ggplot(data = bombination, aes(x = rt, color = source)) +\n",
    "  geom_density(size = 1) +\n",
    "  facet_grid(condition ~ frequency) +\n",
    "  labs(\n",
    "    title = \"RT Distributions by Condition and Frequency\",\n",
    "    x = \"Reaction Time (s)\",\n",
    "    y = \"Density\",\n",
    "    color = \"Source\"\n",
    "  ) +\n",
    "  theme_minimal()"
   ]
  },
  {
   "cell_type": "markdown",
   "id": "f4fd4d20",
   "metadata": {},
   "source": []
  }
 ],
 "metadata": {
  "kernelspec": {
   "display_name": "R",
   "language": "R",
   "name": "ir"
  },
  "language_info": {
   "codemirror_mode": "r",
   "file_extension": ".r",
   "mimetype": "text/x-r-source",
   "name": "R",
   "pygments_lexer": "r",
   "version": "4.5.0"
  }
 },
 "nbformat": 4,
 "nbformat_minor": 5
}
