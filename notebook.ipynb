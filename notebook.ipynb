{
 "cells": [
  {
   "cell_type": "markdown",
   "id": "4de164c5",
   "metadata": {},
   "source": [
    "# Diffusion Race Model\n",
    "The article by Tillman and colleagues (2020) describes a race model between single\n",
    "diffusion processes (RDM). The authors compare their proposed model to other models\n",
    "in the field, such as the Diffusion Decision Model (DDM, Ratcliff & McKoon, 2008) and\n",
    "the Linear Ballistic Accumulator model (LBA, Brown & Heathcote, 2008)."
   ]
  },
  {
   "cell_type": "markdown",
   "id": "ad303575",
   "metadata": {},
   "source": [
    "# 1)\n",
    "**Summarise the racing diffusion model as described in the article. Include all of its\n",
    "parameters in your description**"
   ]
  },
  {
   "cell_type": "markdown",
   "id": "ea6da4f8",
   "metadata": {},
   "source": [
    "# 2)\n",
    "**Compare the assumptions underlying the racing diffusion model to both the DDM\n",
    "and the LBA model. Focus your comparison on the sources of randomness in either\n",
    "of the three models.**"
   ]
  },
  {
   "cell_type": "markdown",
   "id": "9dfd957c",
   "metadata": {},
   "source": [
    "# 3)\n",
    "**Implement the model. You don’t need to start from scratch; an implementation of the most important functions for the model can be found at [https://osf.io/m4btq/](https://osf.io/m4btq/) (see p. 932 in the article). Create some appropriate figures showing the effect of different values for drift rates, response boundary, and starting point variability (separate plots). Use a\n",
    "model with three racers in your plots (Remember to plot the predictions for all\n",
    "three response alternatives).**"
   ]
  },
  {
   "cell_type": "markdown",
   "id": "c57c2304",
   "metadata": {},
   "source": [
    "# 4)\n",
    "**Fit the model to the entire data set from the lexical decision task reported by Wagenmakers and colleagues (2008, Experiment 1). The data of this experiment is available on Absalon. In R, the data set can be loaded from the rtdist package ([https://github.com/rtdists/rtdists/](https://github.com/rtdists/rtdists/)). Fit exactly one model to each participant’s data. Specify the RDM so that it has different thresholds for the two instruction conditions (speed emphasis vs. accuracy emphasis) and different drift rates for word frequency (high, low, very low).**\n",
    "\n",
    "**Summarize your fit. The parameters estimates should be summarized in a table. Evaluate the goodness of fit qualitatively by plotting predictions of the fitted model against data. Select a representative participant for your plot.**\n",
    "\n",
    "*Hint: The data set includes outliers. If you use maximum-likelihood for estimation, remove these prior to fitting by eliminating all responses with censor=TRUE*\n",
    "**"
   ]
  },
  {
   "cell_type": "markdown",
   "id": "04d301b2",
   "metadata": {},
   "source": [
    "# 5)\n",
    "**Someone (e.g., Reviewer #3) criticises the additional parameter for the factor instruction, asking to provide evidence in favour of your assumption. Fit the suggested model and compare the goodness of fit to that from the previous point, using an appropriate method of comparison. Do this for each participant individually and summarise your findings in a table.**"
   ]
  },
  {
   "cell_type": "markdown",
   "id": "872daf51",
   "metadata": {},
   "source": [
    "# 6)\n",
    "**One of the main arguments of the authors (Tillman et al., 2020) is that the RDM provides a flexibility comparable to that of the DDM, but without the need to assume variation in drift rates.**\n",
    "\n",
    "**Fit the DDM to the data. Include parameter variation in starting point as in the RDM. In line with the argument, include the assumption of normally distributed drift rates for the DDM. In contrast, assume a constant non-decision time to keep the two models comparable. Also, the model specification for the different conditions in the experiment should be identical to that of the RDM (i.e., Point 4 above).**\n",
    "\n",
    "**Compare the two fits you obtained for the DDM and the RDM. Use an appropriate method to compare the goodness-of-fit of the two models. Do you find support for the authors’ argument, that is, is the RDM to be preferred over the DDM (based on this data set)?**\n",
    "\n",
    "*Hint: The rtdists package that includes the data also includes an implementation of the DDM.*"
   ]
  }
 ],
 "metadata": {
  "language_info": {
   "name": "python"
  }
 },
 "nbformat": 4,
 "nbformat_minor": 5
}
